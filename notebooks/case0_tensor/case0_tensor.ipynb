{
 "cells": [
  {
   "cell_type": "markdown",
   "id": "e76f8531",
   "metadata": {},
   "source": [
    "# 张量基础\n",
    "\n",
    "数据对于AI而言至关重要，为了能够完成各种数据操作，我们需要某种方法来存储和处理数据。\n",
    "\n",
    "许多AI框架都定义了一种基本的数据结构——张量（[Tensor](https://www.mindspore.cn/docs/zh-CN/r1.7/api_python/mindspore/mindspore.Tensor.html)），它与多维数组的概念非常相似。张量可以将向量和矩阵推广到任意维度，下图中直观地显示了各维度张量及其实际表示的数据。\n",
    "\n",
    "<div align=center>\n",
    "    <img src=\"./images/张量维度示意图.png\" width=\"50%\" height=\"50%\" />\n",
    "</div>\n",
    "\n",
    "张量也是MindSpore中的基本数据结构，它与Numpy中定义的array数据结构相似，也有很多专为深度学习设计的功能，如支持各种算力芯片（包括CPU、GPU和NPU）以及自动微分等。"
   ]
  },
  {
   "cell_type": "markdown",
   "id": "3fad6394",
   "metadata": {},
   "source": [
    "## 1、MindSpore中的张量类\n",
    "\n",
    "`class mindspore.Tensor(input_data=None, dtype=None, shape=None, init=None, internal=False, const_arg=False)`\n",
    "\n",
    "参数：\n",
    "\n",
    "+ **input_data**  - 输入数据\n",
    "\n",
    "+ **dtype** - 设置数据类型\n",
    "\n",
    "+ **shape** - 设置形状\n",
    "\n",
    "+ **init** - 数据的初始化\n",
    "\n",
    "+ **internal** - 设置张量是否由框架创建\n",
    "\n",
    "+ **const_arg** - 指定张量作为网络输入时是否为常量\n",
    "\n",
    "详细内容可以参考[MindSpore官方API文档](https://www.mindspore.cn/docs/zh-CN/r1.9/api_python/mindspore/mindspore.Tensor.html#mindspore.Tensor)"
   ]
  },
  {
   "cell_type": "code",
   "execution_count": 1,
   "id": "c41ed2b5",
   "metadata": {},
   "outputs": [],
   "source": [
    "from mindspore import Tensor"
   ]
  },
  {
   "cell_type": "markdown",
   "id": "b70b9fd1",
   "metadata": {},
   "source": [
    "## 2、创建张量\n",
    "\n",
    "MindSpore中张量的创建方式有多种，构造张量时，支持传入`Tensor`、`float`、`int`、`bool`、`tuple`、`list`和`numpy.ndarray`类型。\n",
    "\n",
    "### 2.1 从Python原始数据生成张量\n",
    "\n",
    "可以根据Python原始数据，如单个数据、列表等，数据类型可以设置或者通过框架自动推断。"
   ]
  },
  {
   "cell_type": "code",
   "execution_count": 2,
   "id": "7fed6672",
   "metadata": {},
   "outputs": [
    {
     "name": "stdout",
     "output_type": "stream",
     "text": [
      "0.1\n",
      "[1 2 3]\n",
      "[[1 1]\n",
      " [2 2]\n",
      " [3 3]]\n",
      "<class 'mindspore.common.tensor.Tensor'>\n",
      "<class 'mindspore.common.tensor.Tensor'>\n",
      "<class 'mindspore.common.tensor.Tensor'>\n"
     ]
    }
   ],
   "source": [
    "from mindspore import Tensor\n",
    "\n",
    "tensor_0 = Tensor(0.1)\n",
    "tensor_1 = Tensor([1, 2, 3])\n",
    "tensor_2 = Tensor([[1, 1], [2, 2], [3, 3]])\n",
    "print(tensor_0)\n",
    "print(tensor_1)\n",
    "print(tensor_2)\n",
    "print(type(tensor_0))\n",
    "print(type(tensor_1))\n",
    "print(type(tensor_2))"
   ]
  },
  {
   "cell_type": "markdown",
   "id": "99c2c8cd",
   "metadata": {},
   "source": [
    "### 2.2 从NumPy数组生成张量"
   ]
  },
  {
   "cell_type": "code",
   "execution_count": 3,
   "id": "6be7d1e8",
   "metadata": {},
   "outputs": [
    {
     "name": "stdout",
     "output_type": "stream",
     "text": [
      "<class 'numpy.ndarray'>\n",
      "<class 'mindspore.common.tensor.Tensor'>\n"
     ]
    }
   ],
   "source": [
    "import numpy as np\n",
    "\n",
    "array = np.array([1, 0, 1, 0])\n",
    "tensor_arr = Tensor(array)\n",
    "print(type(array))\n",
    "print(type(tensor_arr))"
   ]
  },
  {
   "cell_type": "markdown",
   "id": "c0f241fe",
   "metadata": {},
   "source": [
    "### 2.3 使用init初始化器生成张量\n",
    "\n",
    "需要同时传入的参数有`init`、`shape`、`dtype`。\n",
    "\n",
    "+ `init`: 支持传入[initializer](https://www.mindspore.cn/docs/zh-CN/r1.7/api_python/mindspore.common.initializer.html)的子类。\n",
    "\n",
    "+ `shape`: 支持传入 `list`、`tuple`、 `int`。\n",
    "\n",
    "+ `dtype`: 支持传入[mindspore.dtype](https://www.mindspore.cn/docs/zh-CN/r1.7/api_python/mindspore/mindspore.dtype.html#mindspore.dtype)。"
   ]
  },
  {
   "cell_type": "code",
   "execution_count": 4,
   "id": "e9efcf1a",
   "metadata": {},
   "outputs": [
    {
     "name": "stdout",
     "output_type": "stream",
     "text": [
      "tensor1:\n",
      " [[1. 1.]\n",
      " [1. 1.]]\n",
      "tensor2:\n",
      " [[-0.00128023 -0.01392901]\n",
      " [ 0.0130886  -0.00107818]]\n"
     ]
    }
   ],
   "source": [
    "from mindspore import Tensor\n",
    "from mindspore import set_seed\n",
    "from mindspore import dtype as mstype\n",
    "from mindspore.common.initializer import One, Normal\n",
    "\n",
    "set_seed(1)\n",
    "\n",
    "tensor1 = Tensor(shape=(2, 2), dtype=mstype.float32, init=One())\n",
    "tensor2 = Tensor(shape=(2, 2), dtype=mstype.float32, init=Normal())\n",
    "\n",
    "print(\"tensor1:\\n\", tensor1)\n",
    "print(\"tensor2:\\n\", tensor2)"
   ]
  },
  {
   "cell_type": "markdown",
   "id": "c326be92",
   "metadata": {},
   "source": [
    "### 2.4 继承已有张量属性生成新张量"
   ]
  },
  {
   "cell_type": "code",
   "execution_count": 6,
   "id": "4ef33b9d",
   "metadata": {},
   "outputs": [
    {
     "name": "stdout",
     "output_type": "stream",
     "text": [
      "[[1 1]\n",
      " [1 1]]\n",
      "input shape: (2, 2)\n",
      "output shape: (2, 2)\n"
     ]
    }
   ],
   "source": [
    "from mindspore import ops\n",
    "\n",
    "x = Tensor(np.array([[0, 1], [2, 1]]).astype(np.int32))\n",
    "output = ops.ones_like(x)\n",
    "\n",
    "print(output)\n",
    "print(\"input shape:\", x.shape)\n",
    "print(\"output shape:\", output.shape)"
   ]
  },
  {
   "cell_type": "markdown",
   "id": "126800c4",
   "metadata": {},
   "source": [
    "### 2.5 输出指定大小的常值张量\n",
    "\n",
    "`shape`是张量的尺寸元组，确定输出的张量的维度。"
   ]
  },
  {
   "cell_type": "code",
   "execution_count": 7,
   "id": "938ab3ca",
   "metadata": {},
   "outputs": [
    {
     "name": "stdout",
     "output_type": "stream",
     "text": [
      "[[1. 1.]\n",
      " [1. 1.]]\n",
      "[[0. 0.]\n",
      " [0. 0.]]\n"
     ]
    }
   ],
   "source": [
    "from mindspore import ops\n",
    "from mindspore import dtype as mstype\n",
    "\n",
    "shape = (2, 2)\n",
    "ones = ops.Ones()\n",
    "output = ones(shape, mstype.float32)\n",
    "print(output)\n",
    "\n",
    "zeros = ops.Zeros()\n",
    "output = zeros(shape, mstype.float32)\n",
    "print(output)"
   ]
  },
  {
   "cell_type": "markdown",
   "id": "20068f0f",
   "metadata": {},
   "source": [
    "## 3、张量基本操作\n",
    "\n",
    "### 3.1 张量索引\n",
    "\n",
    "Tensor索引与Numpy索引类似，索引从0开始编制，负索引表示按倒序编制，冒号`:`和 `...`用于对数据进行切片操作。"
   ]
  },
  {
   "cell_type": "code",
   "execution_count": 10,
   "id": "b34c0bd1",
   "metadata": {},
   "outputs": [
    {
     "name": "stdout",
     "output_type": "stream",
     "text": [
      "First row: [0. 1.]\n",
      "value of buttom right corner: 3.0\n",
      "Last column: [1. 3.]\n",
      "First column: [0. 2.]\n"
     ]
    }
   ],
   "source": [
    "from mindspore import Tensor\n",
    "import numpy as np\n",
    "\n",
    "tensor = Tensor(np.array([[0, 1], [2, 3]]).astype(np.float32))\n",
    "\n",
    "print(\"First row: {}\".format(tensor[0]))\n",
    "print(\"value of buttom right corner: {}\".format(tensor[1, 1]))\n",
    "print(\"Last column: {}\".format(tensor[:, -1]))\n",
    "print(\"First column: {}\".format(tensor[..., 0]))"
   ]
  },
  {
   "cell_type": "markdown",
   "id": "7694ee38",
   "metadata": {},
   "source": [
    "### 3.2 张量的属性\n",
    "\n",
    "张量的属性包括形状、数据类型、转置、单个元素大小、占用字节数量、维数、元素个数和每一维步长。\n",
    "\n",
    "+ 形状（shape）：是一个tuple。\n",
    "\n",
    "+ 数据类型（dtype）：是MindSpore支持的数据类型。\n",
    "\n",
    "+ 转置（T）：对张量进行转置操作。\n",
    "\n",
    "+ 单个元素大小（itemsize）： `Tensor`中每一个元素占用字节数，是一个整数。\n",
    "\n",
    "+ 占用字节数量（nbytes）： `Tensor`占用的总字节数，是一个整数。\n",
    "\n",
    "+ 维数（ndim）： `Tensor`的秩，也就是len(tensor.shape)，是一个整数。\n",
    "\n",
    "+ 元素个数（size）： `Tensor`中所有元素的个数，是一个整数。\n",
    "\n",
    "+ 每一维步长（strides）： `Tensor`每一维所需要的字节数，是一个tuple。"
   ]
  },
  {
   "cell_type": "code",
   "execution_count": 11,
   "id": "68112de5",
   "metadata": {},
   "outputs": [
    {
     "name": "stdout",
     "output_type": "stream",
     "text": [
      "x:\n",
      " [[1 2]\n",
      " [3 4]]\n",
      "x_shape: (2, 2)\n",
      "x_dtype: Int32\n",
      "x_transposed:\n",
      " [[1 3]\n",
      " [2 4]]\n",
      "x_itemsize: 4\n",
      "x_nbytes: 16\n",
      "x_ndim: 2\n",
      "x_size: 4\n",
      "x_strides: (8, 4)\n"
     ]
    }
   ],
   "source": [
    "x = Tensor(np.array([[1, 2], [3, 4]]), mstype.int32)\n",
    "\n",
    "print(\"x:\\n\", x)\n",
    "print(\"x_shape:\", x.shape)\n",
    "print(\"x_dtype:\", x.dtype)\n",
    "print(\"x_transposed:\\n\", x.T)\n",
    "print(\"x_itemsize:\", x.itemsize)\n",
    "print(\"x_nbytes:\", x.nbytes)\n",
    "print(\"x_ndim:\", x.ndim)\n",
    "print(\"x_size:\", x.size)\n",
    "print(\"x_strides:\", x.strides)"
   ]
  },
  {
   "cell_type": "markdown",
   "id": "a44d883b",
   "metadata": {},
   "source": [
    "### 3.3 张量运算\n",
    "\n",
    "张量之间有很多运算，包括算术、线性代数、矩阵处理（转置、标引、切片）、采样等，张量运算和NumPy的使用方式类似，详细内容请参考[MindSpore官方API](https://www.mindspore.cn/docs/zh-CN/r1.9/api_python/mindspore.ops.html)，下面介绍其中几种算术运算\n",
    "\n",
    "普通算数运算有：加（+）、减（-）、乘（*）、除（/）、取模（%）、整除（//）等。"
   ]
  },
  {
   "cell_type": "code",
   "execution_count": 10,
   "id": "0efabc53",
   "metadata": {},
   "outputs": [
    {
     "name": "stdout",
     "output_type": "stream",
     "text": [
      "add: [5. 7. 9.]\n",
      "sub: [-3. -3. -3.]\n",
      "mul: [ 4. 10. 18.]\n",
      "div: [4.  2.5 2. ]\n",
      "mod: [0. 1. 0.]\n",
      "floordiv: [4. 2. 2.]\n"
     ]
    }
   ],
   "source": [
    "x = Tensor(np.array([1, 2, 3]), mstype.float32)\n",
    "y = Tensor(np.array([4, 5, 6]), mstype.float32)\n",
    "\n",
    "output_add = x + y\n",
    "output_sub = x - y\n",
    "output_mul = x * y\n",
    "output_div = y / x\n",
    "output_mod = y % x\n",
    "output_floordiv = y // x\n",
    "\n",
    "print(\"add:\", output_add)\n",
    "print(\"sub:\", output_sub)\n",
    "print(\"mul:\", output_mul)\n",
    "print(\"div:\", output_div)\n",
    "print(\"mod:\", output_mod)\n",
    "print(\"floordiv:\", output_floordiv)"
   ]
  },
  {
   "cell_type": "markdown",
   "id": "52dbd11f",
   "metadata": {},
   "source": [
    "## 4、扩展内容\n",
    "\n",
    "### 4.1 Tensor与Numpy转换\n",
    "\n",
    "Tensor可以和NumPy进行互相转换。\n",
    "\n",
    "#### 4.1.1 Tensor转换为Numpy\n",
    "\n",
    "使用 `asnumpy()` 将Tensor数据转换为Numpy数据。"
   ]
  },
  {
   "cell_type": "code",
   "execution_count": 11,
   "id": "7d996e86",
   "metadata": {},
   "outputs": [
    {
     "name": "stdout",
     "output_type": "stream",
     "text": [
      "output: <class 'mindspore.common.tensor.Tensor'>\n",
      "n_output: <class 'numpy.ndarray'>\n"
     ]
    }
   ],
   "source": [
    "zeros = ops.Zeros()\n",
    "\n",
    "output = zeros((2, 2), mstype.float32)\n",
    "print(\"output: {}\".format(type(output)))\n",
    "\n",
    "n_output = output.asnumpy()\n",
    "print(\"n_output: {}\".format(type(n_output)))"
   ]
  },
  {
   "cell_type": "markdown",
   "id": "16952dad",
   "metadata": {},
   "source": [
    "#### 4.1.2 Numpy转换为Tensor\n",
    "\n",
    "使用`Tensor()`将Numpy数据转换为Tensor数据。"
   ]
  },
  {
   "cell_type": "code",
   "execution_count": 13,
   "id": "c3ffaa82",
   "metadata": {},
   "outputs": [
    {
     "name": "stdout",
     "output_type": "stream",
     "text": [
      "arr_output: <class 'numpy.ndarray'>\n",
      "t_output: <class 'mindspore.common.tensor.Tensor'>\n"
     ]
    }
   ],
   "source": [
    "arr_output = np.array([1, 0, 1, 0])\n",
    "print(\"arr_output: {}\".format(type(arr_output)))\n",
    "\n",
    "t_output = Tensor(output)\n",
    "print(\"t_output: {}\".format(type(t_output)))"
   ]
  },
  {
   "cell_type": "markdown",
   "id": "a3bf596b",
   "metadata": {},
   "source": [
    "### 4.2 张量序列化和反序列化\n",
    "\n",
    "**序列化**就是指把对象转换为字节序列的过程；**反序列化**就是指把字节序列恢复为对象的过程。\n",
    "\n",
    "序列化和反序列化的作用就是对象状态的**保存**和**重建**。\n",
    "\n",
    "可以使用 HDF5 格式和 h5py 库。 HDF5 是一种可移植的、被广泛支持的格式，用于将序列化的多维数组组织在一个嵌套的键值对字典中。Python 通过 h5py 库支持 HDF5，该库接收和返回 NumPy 数组格式的数据。"
   ]
  },
  {
   "cell_type": "markdown",
   "id": "0d61a997",
   "metadata": {},
   "source": [
    "#### 4.2.1 序列化"
   ]
  },
  {
   "cell_type": "code",
   "execution_count": 8,
   "id": "7824722c",
   "metadata": {},
   "outputs": [],
   "source": [
    "import h5py as h5\n",
    "from mindspore import Tensor\n",
    "from mindspore import numpy as np\n",
    "import os\n",
    "\n",
    "# 创建data文件夹\n",
    "if os.path.exists(\"./data\" ):\n",
    "    pass\n",
    "else:\n",
    "    os.makedirs(\"./data\" )\n",
    "\n",
    "# 创建张量\n",
    "tensor = Tensor(np.reshape(np.arange(16), (4, 4)))\n",
    "# 开始序列化\n",
    "filepath = './data/tensor.hdf5'\n",
    "f = h5.File(filepath, 'w')\n",
    "dset = f.create_dataset('matrix', data=tensor.asnumpy()) # 这里的“matrix”是保存到 HDF5 文件的一个键\n",
    "f.close()"
   ]
  },
  {
   "cell_type": "markdown",
   "id": "82b64660",
   "metadata": {},
   "source": [
    "#### 4.2.2 反序列化"
   ]
  },
  {
   "cell_type": "code",
   "execution_count": 15,
   "id": "7261dbac",
   "metadata": {},
   "outputs": [
    {
     "name": "stdout",
     "output_type": "stream",
     "text": [
      "<class 'numpy.ndarray'>\n"
     ]
    },
    {
     "data": {
      "text/plain": [
       "Tensor(shape=[4, 4], dtype=Int32, value=\n",
       "[[ 0,  1,  2,  3],\n",
       " [ 4,  5,  6,  7],\n",
       " [ 8,  9, 10, 11],\n",
       " [12, 13, 14, 15]])"
      ]
     },
     "execution_count": 15,
     "metadata": {},
     "output_type": "execute_result"
    }
   ],
   "source": [
    "f = h5.File(filepath, 'r')\n",
    "dset = f['matrix']\n",
    "tensor_ = dset[:]\n",
    "\n",
    "print(type(tensor_))\n",
    "tensor_r = Tensor(tensor_)\n",
    "tensor_r"
   ]
  },
  {
   "cell_type": "markdown",
   "id": "19a8be8e",
   "metadata": {},
   "source": [
    "## 5、张量实验任务\n",
    "\n",
    "运用上面所学的知识完成以下四个实验任务：\n",
    "\n",
    "1. 创建一个形状为3×4的二维张量$W$和一个长度为4的一维张量$X$，数据类型都为32位浮点型；\n",
    "\n",
    "2. 查看两个张量的属性；\n",
    "\n",
    "3. 将$W$的进行拆分，第一列元素为$b$，其余形状为3×3的元素为$w$，将张量$X$的第一个元素设置为1，并取其余元素为$x$；\n",
    "\n",
    "4. 计算$W*X^{T}$和$w*x^{T}+b$，并将结果转换为numpy.array格式（会用到[expand_dims](https://www.mindspore.cn/docs/zh-CN/r1.7/api_python/mindspore/mindspore.Tensor.html#mindspore.Tensor.expand_dims)和[ops.matmul](https://www.mindspore.cn/docs/zh-CN/r1.7/api_python/ops/mindspore.ops.matmul.html#mindspore.ops.matmul)两种方法，可以参考MindSpore API）。"
   ]
  },
  {
   "cell_type": "markdown",
   "id": "d6bd0885-3039-4ed4-9329-1464e78c5844",
   "metadata": {},
   "source": [
    "## 6、小结\n",
    "\n",
    "1. 学习了构建张量的基本方法\n",
    "\n",
    "2. 学习了张量的基础运算\n",
    "\n",
    "3. 学习了张量与numpy相互转换\n",
    "\n",
    "4. 学习了张量的序列化和反序列化"
   ]
  }
 ],
 "metadata": {
  "kernelspec": {
   "display_name": "MindSpore",
   "language": "python",
   "name": "mindspore"
  },
  "language_info": {
   "codemirror_mode": {
    "name": "ipython",
    "version": 3
   },
   "file_extension": ".py",
   "mimetype": "text/x-python",
   "name": "python",
   "nbconvert_exporter": "python",
   "pygments_lexer": "ipython3",
   "version": "3.7.6"
  },
  "latex_envs": {
   "LaTeX_envs_menu_present": true,
   "autoclose": false,
   "autocomplete": true,
   "bibliofile": "biblio.bib",
   "cite_by": "apalike",
   "current_citInitial": 1,
   "eqLabelWithNumbers": true,
   "eqNumInitial": 1,
   "hotkeys": {
    "equation": "Ctrl-E",
    "itemize": "Ctrl-I"
   },
   "labels_anchors": false,
   "latex_user_defs": false,
   "report_style_numbering": false,
   "user_envs_cfg": false
  },
  "toc": {
   "base_numbering": 1,
   "nav_menu": {},
   "number_sections": false,
   "sideBar": true,
   "skip_h1_title": false,
   "title_cell": "Table of Contents",
   "title_sidebar": "Contents",
   "toc_cell": false,
   "toc_position": {},
   "toc_section_display": true,
   "toc_window_display": true
  },
  "varInspector": {
   "cols": {
    "lenName": 16,
    "lenType": 16,
    "lenVar": 40
   },
   "kernels_config": {
    "python": {
     "delete_cmd_postfix": "",
     "delete_cmd_prefix": "del ",
     "library": "var_list.py",
     "varRefreshCmd": "print(var_dic_list())"
    },
    "r": {
     "delete_cmd_postfix": ") ",
     "delete_cmd_prefix": "rm(",
     "library": "var_list.r",
     "varRefreshCmd": "cat(var_dic_list()) "
    }
   },
   "types_to_exclude": [
    "module",
    "function",
    "builtin_function_or_method",
    "instance",
    "_Feature"
   ],
   "window_display": false
  },
  "vscode": {
   "interpreter": {
    "hash": "1833749fb8f72c31047ef76df24c54f7b06bba494d880ba7c5c6e98e1db6b70e"
   }
  }
 },
 "nbformat": 4,
 "nbformat_minor": 5
}
