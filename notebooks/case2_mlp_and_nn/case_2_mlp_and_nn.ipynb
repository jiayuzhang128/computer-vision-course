{
 "cells": [
  {
   "cell_type": "markdown",
   "id": "1d8a8e9d",
   "metadata": {},
   "source": [
    "# 感知机与人工神经网络\n",
    "\n",
    "本实验使用MindSpore实现感知机与人工神经网络的搭建，包括单个感知机、单层感知机、多层感知机和神经网络。结合课程学习，通过本实验可以了解感知机的构建过程和人工神经网络的前向输出过程，并且掌握使用MindSpore深度学习框架完成感知机的构建和人工神经网络的简单实现。"
   ]
  },
  {
   "cell_type": "markdown",
   "id": "f3c63030",
   "metadata": {},
   "source": [
    "## 1 感知机的基本实现\n",
    "\n",
    "感知机作为神经网络（深度学习）的起源算法，是神经网络和深度学习的基础。感知机内依照神经元的个数、层数可分为三类：单个感知机、单层感知机和多层感知机。\n",
    "\n",
    "### 1.1 单个感知机\n",
    "\n",
    "如下图所示为一个接收两个输入信号的单个感知机。$x_1$、$x_2$是输入信号，$y$是输出信号，$w_1$、$w_2$是权重，$b$是偏置，$h()$是激活函数。\n",
    "\n",
    "<div align=center>\n",
    "<img src=\"./images/单个感知机.jpg\" width=\"30%\" height=\"30%\" />\n",
    "</div>\n",
    "\n",
    "运行原理公式表示如下：\n",
    "\n",
    "$$h(x)=\\begin{cases}0 & \\text{if } x ≤ 0 \\\\ 1 & \\text{if } x > 0 \\end{cases}$$\n",
    "\n",
    "$$y = h(b + w_1x_1 + w_2x_2)$$"
   ]
  },
  {
   "cell_type": "markdown",
   "id": "a2c1747c",
   "metadata": {},
   "source": [
    "#### 1.1.1 阶跃函数\n",
    "\n",
    "感知机所用的激活函数$h(x)$为阶跃函数。示例代码如下："
   ]
  },
  {
   "cell_type": "code",
   "execution_count": 1,
   "id": "08d5ac73",
   "metadata": {},
   "outputs": [],
   "source": [
    "def step(x):\n",
    "    y = x > 0\n",
    "    return y.astype(np.int32)"
   ]
  },
  {
   "cell_type": "markdown",
   "id": "3509c930",
   "metadata": {},
   "source": [
    "代码中的$x$为张量，对`Tensor`进行不等号运算后，张量的各个元素都会进行不等号运算，生成一个布尔型张量，但是我们想要阶跃函数输出的是`int`型的0或1。因此，用`astype()`方法把张量y的元素类型从布尔型转换为`int`型，使`True`转换为1，`False`转换为0。\n",
    "\n",
    "下面我们来画一下阶跃函数的图（从视觉上确认函数的形状对理解函数而言很重要），需要使用matplotlib库，示例代码如下："
   ]
  },
  {
   "cell_type": "code",
   "execution_count": 2,
   "id": "1e6b545f",
   "metadata": {},
   "outputs": [
    {
     "data": {
      "image/png": "[encoded data removed]",
      "text/plain": [
       "<Figure size 432x288 with 1 Axes>"
      ]
     },
     "metadata": {
      "needs_background": "light"
     },
     "output_type": "display_data"
    }
   ],
   "source": [
    "from mindspore import Tensor\n",
    "from mindspore import dtype\n",
    "import numpy as np\n",
    "import matplotlib.pylab as plt\n",
    "\n",
    "x = Tensor(np.arange(-8.0, 8.0, 0.1), dtype.float32)\n",
    "y = step(x)\n",
    "plt.plot(x, y)\n",
    "plt.ylim(-0.1, 1.1)  # 指定y轴的范围\n",
    "plt.show()"
   ]
  },
  {
   "cell_type": "markdown",
   "id": "38ce6268",
   "metadata": {},
   "source": [
    "`Tensor(np.arange(-8.0, 8.0, 0.1))`在−8.0到8.0的范围内，以0.1为单位，生成张量[-8.0,-7.9,···,7.9]。`step()`以该张量为参数，对数组的各个元素执行阶跃函数运算，并以数组形式返回运算结果。"
   ]
  },
  {
   "cell_type": "markdown",
   "id": "b99ead35",
   "metadata": {},
   "source": [
    "#### 1.1.2 单个感知机的实现\n",
    "\n",
    "现在，我们构建单个感知机，实现简单逻辑电路中的与门，并确认输出结果是否满足要求。\n",
    "\n",
    "我们定义了一个接收参数$x_1$和$x_2$的AND函数。在函数内初始化参数$w_1$、$w_2$、$b$，并用`mindspore.numpy.sum()`实现对权重$w$和输入$x$做乘积运算再计算总和。最后再把偏置加到这个加权总和上得到结果$y$。`step()`是阶跃函数，通过它对$y$进行判断，使得当$y$大于0时返回1，否则返回0。如此一来，我们就实现了与门。示例代码如下："
   ]
  },
  {
   "cell_type": "code",
   "execution_count": 3,
   "id": "14144489",
   "metadata": {},
   "outputs": [
    {
     "name": "stdout",
     "output_type": "stream",
     "text": [
      "0\n",
      "0\n",
      "0\n",
      "1\n"
     ]
    }
   ],
   "source": [
    "from mindspore import Tensor\n",
    "from mindspore import dtype\n",
    "import mindspore\n",
    "import numpy as np\n",
    "\n",
    "\n",
    "# 定义激活函数\n",
    "def step(x):\n",
    "    return np.array(x > 0, dtype=np.int_)\n",
    "\n",
    "\n",
    "def AND(x1, x2):\n",
    "    x = Tensor(np.array([x1, x2]), dtype.float32)\n",
    "    w = Tensor(np.array([0.3, 0.3]), dtype.float32)  # 设定权重\n",
    "    b = -0.5  # 设定偏置\n",
    "    y = mindspore.numpy.sum(w*x) + b\n",
    "    return step(y)\n",
    "\n",
    "\n",
    "print(AND(0, 0))  # 输出0\n",
    "print(AND(0, 1))  # 输出0\n",
    "print(AND(1, 0))  # 输出0\n",
    "print(AND(1, 1))  # 输出1"
   ]
  },
  {
   "cell_type": "markdown",
   "id": "d52e9bbf",
   "metadata": {},
   "source": [
    "结果和我们预想的输出一样。\n",
    "\n",
    "实现与门、与非门、或门的感知机结构是一样的。实际上，三者的区别只在于权重参数的值不同。也就是说，相同构造的单个感知机，只需通过适当地调整参数的值，就可以在三个逻辑门之间自由转换。因此，这里我们只给出与门的实现例子，同学们可以尝试自己搭建感知机去实现其他两个逻辑门。"
   ]
  },
  {
   "cell_type": "markdown",
   "id": "36b6b7cf",
   "metadata": {},
   "source": [
    "### 1.2 单层感知机\n",
    "\n",
    "在单个感知机的基础上，增加多个神经元构成一层，即形成单层感知机。相较于单个感知机，在输入不变的情况下，可以产生多个并列输出。单层感知机的构造图如下所示。\n",
    "\n",
    "<div align=center>\n",
    "<img src=\"./images/单层感知机.jpg\" width=\"35%\" height=\"35%\" />\n",
    "</div>\n",
    "\n",
    "> 这里举例的单层感知机只包含了两个神经元，事实上，在单层感知机中对于所包含的神经元个数是没有限制的，我们可以在该层中增加无数个神经元，即可生成无数个输出。\n",
    "\n",
    "下面我们来演示在接受2个输入信号的情况下，使用单层感知机同时实现与非门和或门。这里我们设置$y1$为与非门输出，$y2$为或门输出，示例代码如下："
   ]
  },
  {
   "cell_type": "code",
   "execution_count": 4,
   "id": "cb25ad9d",
   "metadata": {},
   "outputs": [
    {
     "name": "stdout",
     "output_type": "stream",
     "text": [
      "0\n",
      "1\n"
     ]
    }
   ],
   "source": [
    "from mindspore import Tensor\n",
    "from mindspore import dtype\n",
    "import numpy as np\n",
    "import mindspore\n",
    "\n",
    "x1, x2 = 1, 1\n",
    "\n",
    "#定义激活函数\n",
    "def h(x):\n",
    "    return np.array(x > 0, dtype=np.int_)\n",
    "\n",
    "\n",
    "def NAND(x1, x2):\n",
    "    x = Tensor(np.array([x1, x2]), dtype.float32)\n",
    "    w1 = Tensor(np.array([-0.5, -0.5]), dtype.float32)\n",
    "    b1 = -0.5\n",
    "    y1 = mindspore.numpy.sum(w1*x) + b1\n",
    "    return h(y1)\n",
    "\n",
    "\n",
    "def OR(x1, x2):\n",
    "    x = Tensor(np.array([x1, x2]), dtype.float32)\n",
    "    w = Tensor(np.array([0.5, 0.5]), dtype.float32)\n",
    "    b = -0.4\n",
    "    y2 = mindspore.numpy.sum(w*x) + b\n",
    "    return h(y2)\n",
    "\n",
    "\n",
    "print(NAND(x1, x2))  # 输出1\n",
    "print(OR(x1, x2))  # 输出0"
   ]
  },
  {
   "cell_type": "markdown",
   "id": "354a9658",
   "metadata": {},
   "source": [
    "上例中我们用AND函数计算与门神经元的输出$y1$，用NAND函数计算与非门神经元的输出$y2$，它们在接受同一个输入$x1$，$x2$的情况下，根据各自权重和偏置的不同可以得到不同的输出。\n",
    "\n",
    "> 我们这里设置($x1$, $x2$)默认值为(1, 1)，通过手动修改其为(0, 1)、(1, 0)、(0, 0)即可分别观察到两个门电路在接受到其他三种输入时的输出情况。"
   ]
  },
  {
   "cell_type": "markdown",
   "id": "496d8309",
   "metadata": {},
   "source": [
    "### 1.3 多层感知机的实现\n",
    "\n",
    "下面我们用一个例子来介绍多层感知机，其结构如下图所示。这里，我们将激活函数$h()$放进了神经元中，表示在神经元里先对输入进行求和再通过激活函数输出。我们将最左边的一列称为第0层，中间的一列称为第1层，最右边的一列称为第2层。\n",
    "\n",
    "<div align=center>\n",
    "<img src=\"./images/多层感知机.jpg\" width=\"50%\" height=\"50%\" />\n",
    "</div>\n",
    "\n",
    "下面我们试着搭建一个多层感知机模型来实现异或门。调用实现或门、与非门、与门的`OR`函数、`NAND()`函数、`AND()`函数就可以像下面这样轻松实现，示例代码如下："
   ]
  },
  {
   "cell_type": "code",
   "execution_count": 5,
   "id": "582dbc59",
   "metadata": {},
   "outputs": [
    {
     "name": "stdout",
     "output_type": "stream",
     "text": [
      "0\n",
      "1\n",
      "1\n",
      "0\n"
     ]
    }
   ],
   "source": [
    "from mindspore import Tensor\n",
    "from mindspore import dtype\n",
    "import mindspore\n",
    "import numpy as np\n",
    "\n",
    "x1, x2 = 0, 1\n",
    "\n",
    "\n",
    "def h(x):\n",
    "    return np.array(x > 0, dtype=np.int_)\n",
    "\n",
    "\n",
    "def OR(x1, x2):\n",
    "    x = Tensor(np.array([x1, x2]), dtype.float32)\n",
    "    w1 = Tensor(np.array([0.5, 0.5]), dtype.float32)\n",
    "    b1 = -0.4\n",
    "    y1 = mindspore.numpy.sum(w1*x) + b1\n",
    "    return h(y1)\n",
    "\n",
    "\n",
    "def NAND(x1, x2):\n",
    "    x = Tensor(np.array([x1, x2]), dtype.float32)\n",
    "    w2 = Tensor(np.array([-0.5, -0.5]), dtype.float32)\n",
    "    b2 = 0.7\n",
    "    y2 = mindspore.numpy.sum(w2*x) + b2\n",
    "    return h(y2)\n",
    "\n",
    "\n",
    "def AND(x1, x2):\n",
    "    x = Tensor(np.array([x1, x2]), dtype.float32)\n",
    "    w3 = Tensor(np.array([0.3, 0.3]), dtype.float32)\n",
    "    b3 = -0.5\n",
    "    y3 = mindspore.numpy.sum(w3*x) + b3\n",
    "    return h(y3)\n",
    "\n",
    "\n",
    "def XOR(x1, x2):\n",
    "    s1 = OR(x1, x2)\n",
    "    s2 = NAND(x1, x2)\n",
    "    y = AND(s1, s2)\n",
    "    return y\n",
    "\n",
    "\n",
    "print(XOR(x1, x1))  # 输出0\n",
    "print(XOR(x1, x2))  # 输出1\n",
    "print(XOR(x2, x1))  # 输出1\n",
    "print(XOR(x2, x2))  # 输出0"
   ]
  },
  {
   "cell_type": "markdown",
   "id": "bbe572c3",
   "metadata": {},
   "source": [
    "这样，异或门的实现就完成了。"
   ]
  },
  {
   "cell_type": "markdown",
   "id": "744f0bdc",
   "metadata": {},
   "source": [
    "## 2 人工神经网络的简单实现\n",
    "\n",
    "神经网络相较于感知机，有一个重要优势是它可以自动地从数据中学习到合适的权重参数。实际上，就神经元的连接方式及信号的传递过程而言，二者没有任何差异，唯一的区别在于激活函数。在感知机的领域，激活函数就只有阶跃函数，而如果将阶跃函数换成其他诸如sigmoid函数（后述）等激活函数，就进入了神经网络的领域。"
   ]
  },
  {
   "cell_type": "markdown",
   "id": "f8c93210",
   "metadata": {},
   "source": [
    "### 2.1 神经网络中的激活函数\n",
    "\n",
    "#### 2.1.1 sigmoid函数\n",
    "\n",
    "神经网络中经常使用的一个激活函数就是sigmoid函数。\n",
    "\n",
    "下面，我们来实现sigmoid函数。MindSpore中有已经封装好的[mindspore.ops.Exp](https://www.mindspore.cn/docs/zh-CN/r1.7/api_python/ops/mindspore.ops.Exp.html#mindspore.ops.Exp)函数类，我们在对它进行实例化后便可对Tensor实现`exp()`操作。运行下面程序将绘制出sigmoid函数的曲线。"
   ]
  },
  {
   "cell_type": "code",
   "execution_count": 6,
   "id": "83eef263",
   "metadata": {},
   "outputs": [
    {
     "data": {
      "image/png": "[encoded data removed]",
      "text/plain": [
       "<Figure size 432x288 with 1 Axes>"
      ]
     },
     "metadata": {
      "needs_background": "light"
     },
     "output_type": "display_data"
    }
   ],
   "source": [
    "import mindspore\n",
    "from mindspore import Tensor\n",
    "from mindspore import dtype\n",
    "import numpy as np\n",
    "import matplotlib.pylab as plt\n",
    "\n",
    "exp = mindspore.ops.Exp()\n",
    "\n",
    "\n",
    "def sigmoid(x):\n",
    "    return 1 / (1 + exp(-x))\n",
    "\n",
    "\n",
    "x = Tensor(np.arange(-8.0, 8.0, 0.1), dtype.float32)\n",
    "y = sigmoid(x)\n",
    "plt.plot(x, y)\n",
    "plt.ylim(-0.1, 1.1)  # 指定y轴的范围\n",
    "plt.show()"
   ]
  },
  {
   "cell_type": "markdown",
   "id": "880d6f95",
   "metadata": {},
   "source": [
    "#### 2.1.2 ReLU函数\n",
    "\n",
    "在激活函数中，除了sigmoid函数以外，被广泛使用的还有ReLU函数。\n",
    "\n",
    "同样的，MindSpore中有已经封装好的函数类[mindspore.ops.Maximum()](https://www.mindspore.cn/docs/zh-CN/r1.7/api_python/ops/mindspore.ops.Maximum.html#mindspore.ops.Maximum)，对其实例化后即可调用。maximum()函数会从输入的数值中选择较大的那个值进行输出，通过它我们就能实现ReLU函数。运行下列代码我们可绘制出ReLU函数曲线。"
   ]
  },
  {
   "cell_type": "code",
   "execution_count": 7,
   "id": "bd6823ee",
   "metadata": {},
   "outputs": [
    {
     "data": {
      "image/png": "[encoded data removed]",
      "text/plain": [
       "<Figure size 432x288 with 1 Axes>"
      ]
     },
     "metadata": {
      "needs_background": "light"
     },
     "output_type": "display_data"
    }
   ],
   "source": [
    "import mindspore\n",
    "from mindspore import Tensor\n",
    "from mindspore import dtype\n",
    "import numpy as np\n",
    "import matplotlib.pylab as plt\n",
    "\n",
    "maximum = mindspore.ops.Maximum()\n",
    "\n",
    "x = Tensor(np.arange(-1.0, 1.1, 0.1), dtype.float32)\n",
    "y = maximum(0, x)\n",
    "plt.plot(x, y)\n",
    "plt.ylim(-0.1, 1.1)  # 指定y轴的范围\n",
    "plt.show()"
   ]
  },
  {
   "cell_type": "markdown",
   "id": "73258292",
   "metadata": {},
   "source": [
    "在神经网络中应用的激活函数，除了我们上述介绍的两种函数外，还有许多其他的激活函数。这里由于sigmoid函数的泛用性，我们剩余部分的实验将选择sigmoid函数作为激活函数进行演示。"
   ]
  },
  {
   "cell_type": "markdown",
   "id": "cee5bdb4",
   "metadata": {},
   "source": [
    "### 2.2 实现步骤\n",
    "\n",
    "现在我们来实现神经网络。这里我们以下图的3层神经网络为例，实现从输入到输出的（前向）处理。\n",
    "\n",
    "<div align=center>\n",
    "<img src=\"./images/三层神经网络.jpg\" width=\"60%\" height=\"60%\" />\n",
    "</div>\n",
    "\n",
    "> 3层神经网络：输入层（第0层）有2个神经元，第1个隐含层（第1层）有3个神经元，第2个隐含层（第2层）有3个神经元，输出层（第3层）有2个神经元。"
   ]
  },
  {
   "cell_type": "markdown",
   "id": "f62daa4e",
   "metadata": {},
   "source": [
    "1. 加载MindSpore模块\n",
    "\n",
    "首先导入MindSpore API和numpy，代码如下："
   ]
  },
  {
   "cell_type": "code",
   "execution_count": 8,
   "id": "989df6f2",
   "metadata": {},
   "outputs": [],
   "source": [
    "import mindspore\n",
    "from mindspore import Tensor, nn\n",
    "from mindspore import dtype\n",
    "import numpy as np"
   ]
  },
  {
   "cell_type": "markdown",
   "id": "dcba9445",
   "metadata": {},
   "source": [
    "2. 定义神经网络的权重和偏置\n",
    "\n",
    "示例代码如下："
   ]
  },
  {
   "cell_type": "code",
   "execution_count": 9,
   "id": "5d8444ef",
   "metadata": {},
   "outputs": [],
   "source": [
    "def init_network():\n",
    "    network = {}\n",
    "    network['w1'] = Tensor(np.random.normal(0, 1, [3, 2]), dtype.float32)\n",
    "    network['b1'] = Tensor(np.random.normal(0, 1, [3]), dtype.float32)\n",
    "    network['w2'] = Tensor(np.random.normal(0, 1, [3, 3]), dtype.float32)\n",
    "    network['b2'] = Tensor(np.random.normal(0, 1, [3]), dtype.float32)\n",
    "    network['w3'] = Tensor(np.random.normal(0, 1, [2, 3]), dtype.float32)\n",
    "    network['b3'] = Tensor(np.random.normal(0, 1, [2]), dtype.float32)\n",
    "    return network"
   ]
  },
  {
   "attachments": {},
   "cell_type": "markdown",
   "id": "87726fb4",
   "metadata": {},
   "source": [
    "`init_network()`函数的作用是进行定义神经网络的权重和偏置，并把它们保存在一个字典变量$network$中。这里用`np.random.normal()`函数将权重设置为满足均值为0，标准差为1的正态分布的2*3`Tensor`，偏置则为满足均值为0，标准差为1的正态分布的1维`Tensor`。\n",
    "\n",
    "> 在我们之后采用的`Dense`算子中，其内部的sigmoid函数规定了输入数据类型为float16或float32的任意维度的`Tensor`，因此在本小节中我们定义权重、偏置等各参数时均规定它们的数据类型为`float32`。"
   ]
  },
  {
   "cell_type": "markdown",
   "id": "5c60c8ac",
   "metadata": {},
   "source": [
    "3. 定义网络模型\n",
    "\n",
    "定义三层神经网络模型的结构，由于我们构建的网络具有三个全连接层，因此我们可以使用`mindspore`的提供全连接层算子[nn.Dense](https://www.mindspore.cn/docs/zh-CN/r1.7/api_python/nn/mindspore.nn.Dense.html#mindspore.nn.Dense)。其参数如下：\n",
    "\n",
    "- `in_channels`：Dense层输入Tensor的空间维度。\n",
    "\n",
    "- `out_channels`：Dense层输出Tensor的空间维度。\n",
    "\n",
    "- `weight_init`：权重参数的初始化方法。数据类型与输入相同。默认值：’normal’。\n",
    "\n",
    "- `bias_init`：偏置参数的初始化方法。数据类型与输入相同。默认值：’zeros’。\n",
    "\n",
    "- `has_bias`：是否使用偏置向量 bias 。默认值：True。\n",
    "\n",
    "- `activation`：应用于全连接层输出的激活函数，例如‘sigmoid’。默认值：None。\n",
    "\n",
    "> 除了`nn.Dense`外，`mindspore.nn`模块中还提供了卷基层（`nn.Conv2d`）、池化层（`nn.MaxPool2d`）等算子，详情可参考[API文档](https://www.mindspore.cn/docs/zh-CN/r1.7/api_python/mindspore.nn.html)。\n",
    "\n",
    "示例代码如下："
   ]
  },
  {
   "cell_type": "code",
   "execution_count": 10,
   "id": "882f757e",
   "metadata": {},
   "outputs": [],
   "source": [
    "class Net(nn.Cell):\n",
    "    def __init__(self):\n",
    "        super(Net, self).__init__()\n",
    "        network = init_network()\n",
    "        w1, w2, w3 = network['w1'], network['w2'], network['w3']\n",
    "        b1, b2, b3 = network['b1'], network['b2'], network['b3']\n",
    "        self.fc1 = nn.Dense(2, 3, w1, b1, True, 'sigmoid')\n",
    "        self.fc2 = nn.Dense(3, 3, w2, b2, True, 'sigmoid')\n",
    "        self.fc3 = nn.Dense(3, 2, w3, b3, True)\n",
    "\n",
    "    def construct(self, x):\n",
    "        x = self.fc1(x)\n",
    "        x = self.fc2(x)\n",
    "        x = self.fc3(x)\n",
    "        return x"
   ]
  },
  {
   "cell_type": "markdown",
   "id": "ad1d29e4",
   "metadata": {},
   "source": [
    "MindSpore的[Cell](https://www.mindspore.cn/docs/zh-CN/r1.7/api_python/nn/mindspore.nn.Cell.html?highlight=cell)类是构建所有网络的基类，也是网络的基本单元。当我们需要自定义网络时，需要继承`Cell`类，并重写`__init__`方法和`construct`方法。\n",
    "\n",
    "在我们定义的`Net`模型类中，在`__init__()`函数中完成了模型参数初始化及各个层所需要用到算子的定义。在我们定义的`nn.Dense`层中，实现了权重和偏置的初始化，并对输入张量进行线性变换。\n",
    "\n",
    "`self.fc1`和`self.fc2`分别表示第一个隐含层和第二个隐含层，采用的激活函数为sigmoid，`self.fc3`表示输出层，采用的激活函数默认为None，等同于恒等函数。\n",
    "\n",
    "`construct()`函数就是把我们在初始化函数中导入的算子按顺序放置，实现层之间的连接关系，同时负责接收输入信号，根据定义对输入进行逐层操作，最后返回计算结果，实现神经网络的前向传播。"
   ]
  },
  {
   "cell_type": "markdown",
   "id": "f6cc1044",
   "metadata": {},
   "source": [
    "4. 创建网络并实现前向传播\n",
    "\n",
    "这里，我们将输入信号$input$设置为二维张量[[1.0， 2.0]]，不直接设为一维是因为`nn.Dense`算子要求输入张量维数至少为二。同时，我们将前面构造的$Net$类实例化，并传入$input$即可实现神经网络前向传播。"
   ]
  },
  {
   "cell_type": "code",
   "execution_count": 11,
   "id": "76100345",
   "metadata": {},
   "outputs": [
    {
     "name": "stdout",
     "output_type": "stream",
     "text": [
      "[[2.9480772 3.238216 ]]\n"
     ]
    }
   ],
   "source": [
    "input = Tensor(np.array([[1.0, 2.0]]), dtype.float32)\n",
    "model = Net()\n",
    "output = model(input)\n",
    "print(output)"
   ]
  },
  {
   "cell_type": "markdown",
   "id": "c5b8f1c0",
   "metadata": {},
   "source": [
    "### 2.3 代码总结\n",
    "\n",
    "现在我们把之前各个流程的代码整理一下，可以得到完整的实现代码如下所示。"
   ]
  },
  {
   "cell_type": "code",
   "execution_count": 12,
   "id": "a77a47da",
   "metadata": {},
   "outputs": [
    {
     "name": "stdout",
     "output_type": "stream",
     "text": [
      "[[ 0.29432645 -1.2654278 ]]\n"
     ]
    }
   ],
   "source": [
    "import mindspore\n",
    "from mindspore import Tensor, nn\n",
    "from mindspore import dtype\n",
    "import numpy as np\n",
    "\n",
    "\n",
    "def init_network():\n",
    "    network = {}\n",
    "    network['w1'] = Tensor(np.random.normal(0, 1, [3, 2]), dtype.float32)\n",
    "    network['b1'] = Tensor(np.random.normal(0, 1, [3]), dtype.float32)\n",
    "    network['w2'] = Tensor(np.random.normal(0, 1, [3, 3]), dtype.float32)\n",
    "    network['b2'] = Tensor(np.random.normal(0, 1, [3]), dtype.float32)\n",
    "    network['w3'] = Tensor(np.random.normal(0, 1, [2, 3]), dtype.float32)\n",
    "    network['b3'] = Tensor(np.random.normal(0, 1, [2]), dtype.float32)\n",
    "    return network\n",
    "\n",
    "\n",
    "class Net(nn.Cell):\n",
    "    def __init__(self):\n",
    "        super(Net, self).__init__()\n",
    "        network = init_network()\n",
    "        w1, w2, w3 = network['w1'], network['w2'], network['w3']\n",
    "        b1, b2, b3 = network['b1'], network['b2'], network['b3']\n",
    "        self.fc1 = nn.Dense(2, 3, w1, b1, True, 'sigmoid')\n",
    "        self.fc2 = nn.Dense(3, 3, w2, b2, True, 'sigmoid')\n",
    "        self.fc3 = nn.Dense(3, 2, w3, b3, True)\n",
    "\n",
    "    def construct(self, x):\n",
    "        x = self.fc1(x)\n",
    "        x = self.fc2(x)\n",
    "        x = self.fc3(x)\n",
    "        return x\n",
    "\n",
    "\n",
    "input = Tensor(np.array([[1.0, 2.0]]), dtype.float32)\n",
    "model = Net()\n",
    "output = model(input)\n",
    "print(output)"
   ]
  },
  {
   "cell_type": "markdown",
   "id": "ffe7d630",
   "metadata": {},
   "source": [
    "自此，通过巧妙地使用MindSpore框架，我们高效地实现了一个三层神经网络。\n",
    "\n",
    "> 这里我们只是实现了神经网络的前向输出，在之后课程中，通过对模型训练方法的掌握，我们就可以通过对神经网络模型进行训练，使模型输出我们需要的值，如此一来，我们就可以使用神经网络来实现各种AI任务。"
   ]
  },
  {
   "attachments": {},
   "cell_type": "markdown",
   "id": "561fa27e",
   "metadata": {},
   "source": [
    "## 3 实验任务\n",
    "\n",
    "对前述的3层神经网络进行手动实现，过程中要求不采用`Dence`算子而采用基本的矩阵乘法算子`mindspore.ops.matmul`。输入信号设置为默认值[1.0， 2.0]，用`numpy`中的`np.random.normal()`函数将权重设置为满足均值为0，标准差为1的正态分布的2*3`Tensor`，偏置则为满足均值为0，标准差为1的正态分布的1维`Tensor`。"
   ]
  },
  {
   "attachments": {},
   "cell_type": "markdown",
   "id": "efe05dbf",
   "metadata": {},
   "source": [
    "### 参考答案\n",
    "\n",
    "1. 分步骤实现\n",
    "\n",
    "首先加载实验所需的模块。"
   ]
  },
  {
   "cell_type": "code",
   "execution_count": 14,
   "id": "94025ce9",
   "metadata": {},
   "outputs": [],
   "source": [
    "import mindspore\n",
    "from mindspore import Tensor\n",
    "from mindspore import dtype\n",
    "import numpy as np"
   ]
  },
  {
   "cell_type": "markdown",
   "id": "2b69c04b",
   "metadata": {},
   "source": [
    "接下来实现从输入层到第1个隐含层的第1个神经元的信号传递过程，如下图所示。\n",
    "\n",
    "<div align=center>\n",
    "<img src=\"./images/第一层信号传递.jpg\" width=\"50%\" height=\"50%\" />\n",
    "</div>\n",
    "\n",
    "示例代码如下："
   ]
  },
  {
   "cell_type": "code",
   "execution_count": 15,
   "id": "61098fc6",
   "metadata": {},
   "outputs": [],
   "source": [
    "exp = mindspore.ops.Exp()\n",
    "\n",
    "# 定义激活函数\n",
    "def sigmoid(x):\n",
    "    return 1 / (1 + exp(-x))\n",
    "\n",
    "\n",
    "x = Tensor(np.array([1.0, 2.0]), dtype.float32)\n",
    "w1 = Tensor(np.random.normal(0, 1, [2, 3]), dtype.float32)\n",
    "b1 = Tensor(np.random.normal(0, 1, [3]), dtype.float32)\n",
    "\n",
    "a1 = mindspore.ops.matmul(x, w1) + b1\n",
    "z1 = sigmoid(a1)"
   ]
  },
  {
   "cell_type": "markdown",
   "id": "57fb312d",
   "metadata": {},
   "source": [
    "然后实现第1个隐含层到第2个隐含层的信号传递。它信号的传递过程如下图所示。\n",
    "\n",
    "<div align=center>\n",
    "<img src=\"./images/第二层信号传递.jpg\" width=\"45%\" height=\"45%\" />\n",
    "</div>\n",
    "\n",
    "除了第1个隐含层的输出$Z_1$变成了第2个隐含层的输入这一点以外，这个实现和刚才的代码基本完全相同。"
   ]
  },
  {
   "cell_type": "code",
   "execution_count": 16,
   "id": "8824be02",
   "metadata": {},
   "outputs": [],
   "source": [
    "w2 = Tensor(np.random.normal(0, 1, [3, 3]), dtype.float32)\n",
    "b2 = Tensor(np.random.normal(0, 1, [3]), dtype.float32)\n",
    "\n",
    "a2 = mindspore.ops.matmul(z1, w2) + b2\n",
    "z2 = sigmoid(a2)"
   ]
  },
  {
   "cell_type": "markdown",
   "id": "34e5befc",
   "metadata": {},
   "source": [
    "最后是第2个隐含层到输出层的信号传递，如下图所示。这个过程的实现也和之前的实现基本一致。\n",
    "\n",
    "<div align=center>\n",
    "<img src=\"./images/第三层信号传递.jpg\" width=\"45%\" height=\"45%\" />\n",
    "</div>\n",
    "\n",
    "> 输出层的激活函数$𝜎()$和之前的隐含层的激活函数$h()$有所不同。$𝜎()$为恒等函数，该函数会将输入按原样输出，因此，在这里中没有必要特意定义恒等函数，直接输出加权求和的结果就可以。"
   ]
  },
  {
   "cell_type": "code",
   "execution_count": 17,
   "id": "8ec7a8e1",
   "metadata": {},
   "outputs": [
    {
     "name": "stdout",
     "output_type": "stream",
     "text": [
      "[-0.15418482  1.4596719 ]\n"
     ]
    }
   ],
   "source": [
    "w3 = Tensor(np.random.normal(0, 1, [3, 2]), dtype.float32)\n",
    "b3 = Tensor(np.random.normal(0, 1, [2]), dtype.float32)\n",
    "\n",
    "a3 = mindspore.ops.matmul(z2, w3) + b3\n",
    "y = a3  # 输出层的激活函数为恒等函数，因此直接输出\n",
    "print(y)"
   ]
  },
  {
   "cell_type": "markdown",
   "id": "4f04c4f2",
   "metadata": {},
   "source": [
    "2. 代码总结"
   ]
  },
  {
   "cell_type": "code",
   "execution_count": 18,
   "id": "acc8713e",
   "metadata": {},
   "outputs": [
    {
     "name": "stdout",
     "output_type": "stream",
     "text": [
      "[ 0.7527307  -0.66268176]\n"
     ]
    }
   ],
   "source": [
    "import mindspore\n",
    "from mindspore import Tensor\n",
    "from mindspore import dtype\n",
    "import numpy as np\n",
    "\n",
    "\n",
    "exp = mindspore.ops.Exp()\n",
    "\n",
    "\n",
    "# 定义激活函数\n",
    "def sigmoid(x):\n",
    "    return 1 / (1 + exp(-x))\n",
    "\n",
    "\n",
    "def init_network():\n",
    "    network = {}\n",
    "    network['w1'] = Tensor(np.random.normal(0, 1, [2, 3]), dtype.float32)\n",
    "    network['b1'] = Tensor(np.random.normal(0, 1, [3]), dtype.float32)\n",
    "    network['w2'] = Tensor(np.random.normal(0, 1, [3, 3]), dtype.float32)\n",
    "    network['b2'] = Tensor(np.random.normal(0, 1, [3]), dtype.float32)\n",
    "    network['w3'] = Tensor(np.random.normal(0, 1, [3, 2]), dtype.float32)\n",
    "    network['b3'] = Tensor(np.random.normal(0, 1, [2]), dtype.float32)\n",
    "    return network\n",
    "\n",
    "\n",
    "def forward(network, x):\n",
    "    w1, w2, w3 = network['w1'], network['w2'], network['w3']\n",
    "    b1, b2, b3 = network['b1'], network['b2'], network['b3']\n",
    "    a1 = mindspore.ops.matmul(x, w1) + b1\n",
    "    z1 = sigmoid(a1)\n",
    "    a2 = mindspore.ops.matmul(z1, w2) + b2\n",
    "    z2 = sigmoid(a2)\n",
    "    y = mindspore.ops.matmul(z2, w3) + b3\n",
    "    return y\n",
    "\n",
    "\n",
    "network = init_network()\n",
    "input = Tensor(np.array([1.0, 2.0]))\n",
    "output = forward(network, input)\n",
    "print(output)"
   ]
  },
  {
   "cell_type": "markdown",
   "id": "98de5f2a",
   "metadata": {},
   "source": [
    "在代码总结这里我们定义了`init_network()`和`forward()`函数。`init_network()`函数进行神经网络权重和偏置的定义及保存。`forward()`函数实现参数的初始化并进行前向传播，它内部封装了将输入信号转换为输出信号的处理过程。至此，我们就手动实现了一个三层神经网络的构建并完成了前向传播。"
   ]
  }
 ],
 "metadata": {
  "kernelspec": {
   "display_name": "ms1.7",
   "language": "python",
   "name": "python3"
  },
  "language_info": {
   "codemirror_mode": {
    "name": "ipython",
    "version": 3
   },
   "file_extension": ".py",
   "mimetype": "text/x-python",
   "name": "python",
   "nbconvert_exporter": "python",
   "pygments_lexer": "ipython3",
   "version": "3.7.5"
  },
  "latex_envs": {
   "LaTeX_envs_menu_present": true,
   "autoclose": false,
   "autocomplete": true,
   "bibliofile": "biblio.bib",
   "cite_by": "apalike",
   "current_citInitial": 1,
   "eqLabelWithNumbers": true,
   "eqNumInitial": 1,
   "hotkeys": {
    "equation": "Ctrl-E",
    "itemize": "Ctrl-I"
   },
   "labels_anchors": false,
   "latex_user_defs": false,
   "report_style_numbering": false,
   "user_envs_cfg": false
  },
  "toc": {
   "base_numbering": 1,
   "nav_menu": {},
   "number_sections": false,
   "sideBar": true,
   "skip_h1_title": false,
   "title_cell": "Table of Contents",
   "title_sidebar": "Contents",
   "toc_cell": false,
   "toc_position": {
    "height": "calc(100% - 180px)",
    "left": "10px",
    "top": "150px",
    "width": "256.825px"
   },
   "toc_section_display": true,
   "toc_window_display": true
  },
  "varInspector": {
   "cols": {
    "lenName": 16,
    "lenType": 16,
    "lenVar": 40
   },
   "kernels_config": {
    "python": {
     "delete_cmd_postfix": "",
     "delete_cmd_prefix": "del ",
     "library": "var_list.py",
     "varRefreshCmd": "print(var_dic_list())"
    },
    "r": {
     "delete_cmd_postfix": ") ",
     "delete_cmd_prefix": "rm(",
     "library": "var_list.r",
     "varRefreshCmd": "cat(var_dic_list()) "
    }
   },
   "types_to_exclude": [
    "module",
    "function",
    "builtin_function_or_method",
    "instance",
    "_Feature"
   ],
   "window_display": false
  },
  "vscode": {
   "interpreter": {
    "hash": "1833749fb8f72c31047ef76df24c54f7b06bba494d880ba7c5c6e98e1db6b70e"
   }
  }
 },
 "nbformat": 4,
 "nbformat_minor": 5
}
