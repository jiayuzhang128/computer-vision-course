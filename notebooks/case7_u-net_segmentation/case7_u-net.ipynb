{
 "cells": [
  {
   "cell_type": "markdown",
   "id": "89a364ef",
   "metadata": {},
   "source": [
    "# U-Net的医学图像分割实验\n",
    "\n",
    "本实验使用U-Net网络实现医学图像分割任务，使用的数据来自Kaggle的公开数据集。结合课程学习，通过本实验可以了解U-Net网络结构和数据处理相关知识，并通过MindSpore深度学习框架实现。"
   ]
  },
  {
   "cell_type": "markdown",
   "id": "06d109e1",
   "metadata": {},
   "source": [
    "## 1. 基于U-Net的医学图像分割实验简介"
   ]
  },
  {
   "cell_type": "markdown",
   "id": "31ad0196",
   "metadata": {},
   "source": [
    "### 1.1 医学图像分割概念\n",
    "\n",
    "根据医学图像的某种相似性特征将医学图像划分为若干个互不相交的“连通”的区域的过程。如下图所示：\n",
    "\n",
    "+ a为“PhC-U373”数据集的输入图像的一部分\n",
    "\n",
    "+ b为分割结果\n",
    "\n",
    "<div align=\"center\">\n",
    "<img src=\"./images/06.png\" width=\"50%\" height=\"50%\">\n",
    "</div>"
   ]
  },
  {
   "cell_type": "markdown",
   "id": "dd463bcf",
   "metadata": {},
   "source": [
    "### 1.2 目前分割主要存在问题\n",
    "\n",
    "使用深度学习进行图像分割，采用了分类的思路，对每个像素点进行分类，判断像素点是属于目标前景还是背景。\n",
    "\n",
    "传统卷积神经网络做分类的步骤是：\n",
    "\n",
    "+ 单个图像经过多层卷积得到降维之后的特征图\n",
    "\n",
    "+ 特征图经过全连接层变成一个分类器\n",
    "\n",
    "+ 输出一个类别的向量，这就是分类的结果\n",
    "\n",
    "对于基于神经网络的图像分割问题来说，图像中的每一个像素都会输出一个分类结果，传统神经网络中分类的向量，就变成了一个分类的特征图，通道数等于类别数量。\n",
    "\n",
    "分割网络中的池化操作在减少feature的空间分辨率的同时增加了模型感受野，这也是模型应对小型平移具有鲁棒性的根本原因。但是连续的下采样得到的feature map 就会丢失一些low-level中关键信息(例如边沿，边界等)。这就让识别和准确定位产生了矛盾。如果网络不采取任何池化操作，这在目标边界定位上效果较好，但是识别性能差。\n",
    "\n",
    "为了解决这个问题，U-net采用多个skip-connection将底层的feature和高层的feature concat，U-Net结构如下图。每个蓝色框对应一个多通道特征图。通道数显示在框的顶部。 x-y 尺寸位于框的左下边缘。白框代表复制的特征图。箭头表示不同的操作。\n",
    "\n",
    "<div align=\"center\">\n",
    "<img src=\"./images/01.png\" width=\"50%\" height=\"50%\">\n",
    "</div>\n",
    "\n",
    "[U-Net论文链接](https://lmb.informatik.uni-freiburg.de/people/ronneber/u-net/)"
   ]
  },
  {
   "cell_type": "markdown",
   "id": "148b4970",
   "metadata": {},
   "source": [
    "### 1.3 文章主要观点\n",
    "\n",
    "+ U-Net建立在FCN的网络架构上，作者在网络框架上改进，使其能够使用很少的训练图像就得到很精确的分割结果。\n",
    "\n",
    "+ 添加连续**upsample**阶段，并且channel维度增大，在decoder部分concat进入更多的原图像纹理的信息。\n",
    "\n",
    "+ U-Net没有FC层，卷积层的数量大约在20个左右，4次下采样，4次上采样。"
   ]
  },
  {
   "cell_type": "markdown",
   "id": "7aa1366d",
   "metadata": {},
   "source": [
    "## 2. U-Net医学图像分割实验"
   ]
  },
  {
   "cell_type": "markdown",
   "id": "c2af81ad",
   "metadata": {},
   "source": [
    "### 2.1 导入实验环境"
   ]
  },
  {
   "cell_type": "markdown",
   "id": "2252b303",
   "metadata": {},
   "source": [
    "运行下面代码，在下拉菜单中选择实验环境，目前支持CPU和Ascend NPU切换。"
   ]
  },
  {
   "cell_type": "code",
   "execution_count": 1,
   "id": "c58aa8b2",
   "metadata": {
    "vscode": {
     "languageId": "python"
    }
   },
   "outputs": [
    {
     "data": {
      "application/vnd.jupyter.widget-view+json": {
       "model_id": "12b0fb04d45c4d7a88cf14c2c39351c5",
       "version_major": 2,
       "version_minor": 0
      },
      "text/plain": [
       "Dropdown(description='Select Device', options=('Click to choose', 'CPU', 'Ascend NPU'), value='Click to choose…"
      ]
     },
     "metadata": {},
     "output_type": "display_data"
    },
    {
     "data": {
      "application/vnd.jupyter.widget-view+json": {
       "model_id": "854e32346c23453c8dde4c117d50281e",
       "version_major": 2,
       "version_minor": 0
      },
      "text/plain": [
       "Output()"
      ]
     },
     "metadata": {},
     "output_type": "display_data"
    }
   ],
   "source": [
    "import os\n",
    "import mindspore\n",
    "from mindspore import Model, context\n",
    "import ipywidgets as wgs # 控件，请安装ipywidgets==7.7.1\n",
    "\n",
    "dropdown = wgs.Dropdown(description=\"Select Device\", options=['Click to choose', 'CPU', 'Ascend NPU'])\n",
    "output = wgs.Output()\n",
    "def changeDevice(change):\n",
    "    output.clear_output()\n",
    "    #device_id = 2\n",
    "    token = change.new\n",
    "    with output:\n",
    "        if token == 'Click to choose':\n",
    "            print(\"请选择运行环境\")\n",
    "        if token == 'CPU':\n",
    "            print(\"请确认当前环境为CPU\\n======================================================================\")\n",
    "            try:\n",
    "                context.set_context(mode=context.GRAPH_MODE, device_target=\"CPU\", save_graphs=False)\n",
    "                print(\"已检查！确认当前环境为CPU\")\n",
    "            except ValueError:\n",
    "                print(\"错误！当前是系统硬件不是CPU，请重新选择合适的硬件设备\")\n",
    "        if token == 'Ascend NPU':\n",
    "            print(\"请确认当前环境为Ascend NPU\\n===============================================================\")\n",
    "            try:\n",
    "                context.set_context(mode=context.GRAPH_MODE, device_target=\"Ascend\", save_graphs=False)\n",
    "                print(\"当前环境为Ascend NPU\")\n",
    "            except ValueError:\n",
    "                print(\"错误！当前是系统硬件不是Ascend NPU，请重新选择合适的硬件设备\")\n",
    "\n",
    "\n",
    "dropdown.observe(changeDevice, names='value')\n",
    "display(dropdown, output)"
   ]
  },
  {
   "cell_type": "markdown",
   "id": "341cf930",
   "metadata": {},
   "source": [
    "运行下面代码进行当前实验环境环境配置"
   ]
  },
  {
   "cell_type": "code",
   "execution_count": 2,
   "id": "973c7284",
   "metadata": {
    "vscode": {
     "languageId": "python"
    }
   },
   "outputs": [
    {
     "name": "stdout",
     "output_type": "stream",
     "text": [
      "选择的环境是：CPU\n",
      "CPU环境设置成功！\n"
     ]
    }
   ],
   "source": [
    "mindspore.set_seed(1)\n",
    "if dropdown.value == 'CPU':\n",
    "    print(\"选择的环境是：\" + dropdown.value)\n",
    "    device_id = 2\n",
    "    try:\n",
    "        context.set_context(mode=context.GRAPH_MODE, device_target=\"CPU\", save_graphs=False)\n",
    "        print(\"CPU环境设置成功！\")\n",
    "    except ValueError:\n",
    "        print(\"错误！当前是系统硬件不支持CPU，请返回上一步重新选择合适的硬件设备\")\n",
    "    epochs = 2\n",
    "    resume = True\n",
    "    per_print_times = 1\n",
    "    resume_ckpt = './checkpoints/pretrained.ckpt'\n",
    "elif dropdown.value == 'Ascend NPU':\n",
    "    print(\"选择的环境是：\" + dropdown.value)\n",
    "    device_id = 2\n",
    "    try:\n",
    "        context.set_context(mode=context.GRAPH_MODE, device_target=\"Ascend\", save_graphs=False)\n",
    "        print(\"Ascend NPU环境设置成功！\")\n",
    "    except ValueError:\n",
    "        print(\"错误！当前是系统硬件不支持Asend NPU，请返回上一步重新选择合适的硬件设备\")\n",
    "    epochs = 400\n",
    "    resume = False\n",
    "    per_print_times = 60\n",
    "    resume_ckpt = './'\n",
    "elif dropdown.value == 'Click to chose':\n",
    "    print(\"未手动选择运行环境\")\n",
    "    device_id = 2\n",
    "    try:\n",
    "        context.set_context(mode=context.GRAPH_MODE, device_target=\"CPU\", save_graphs=False)\n",
    "        print(\"默认运行为CPU环境，已设置成功！\")\n",
    "    except ValueError:\n",
    "        print(\"错误！当前是系统硬件不支持CPU，请返回上一步重新选择合适的硬件设备\")\n",
    "    epochs = 2\n",
    "    resume = True\n",
    "    per_print_times = 1\n",
    "    resume_ckpt = './checkpoints/pretrained.ckpt'\n",
    "else:\n",
    "    print(\"未手动选择运行环境\")\n",
    "    device_id = 2\n",
    "    try:\n",
    "        context.set_context(mode=context.GRAPH_MODE, device_target=\"CPU\", save_graphs=False)\n",
    "        print(\"默认运行为CPU环境，已设置成功！\")\n",
    "    except ValueError:\n",
    "        print(\"错误！当前是系统硬件不支持CPU，请返回上一步重新选择合适的硬件设备\")\n",
    "    epochs = 2\n",
    "    resume = True\n",
    "    per_print_times = 1\n",
    "    resume_ckpt = './checkpoints/pretrained.ckpt'"
   ]
  },
  {
   "cell_type": "markdown",
   "id": "950805df",
   "metadata": {},
   "source": [
    "### 2.2 实验数据集\n",
    "\n",
    "本实验所用数据集来自Kaggle官网的公开数据集[LGG Segmentation Dataset](https://www.kaggle.com/datasets/mateuszbuda/lgg-mri-segmentation/code )。该数据集包含大脑 MR 图像以及手动 FLAIR 异常分割掩码，大小为1.06GB。\n",
    "训练和测试数据集为Kaggle公开数据集。处理后的数据集大小为20 MB，共四个文件：volume.tif，labels.tif，test.tif，testlabel.tif。\n",
    "\n",
    "+ 第一个文件为训练集图像，该TIF文件共有30个通道，每个通道为一张灰度图像。\n",
    "\n",
    "+ 第二个文件为训练集标签，该TIF文件共有30个通道，每个通道为一张灰度图像（像素值仅为0或255）。\n",
    "\n",
    "+ 第三个文件为测试集图像，该TIF文件有10个通道，每个通道为一张灰度图像。\n",
    "\n",
    "+ 第四个文件为测试集标签，该TIF文件共有10个通道，每个通道为一张灰度图像（像素值仅为0或255）。"
   ]
  },
  {
   "cell_type": "markdown",
   "id": "fd707b96-d326-4b1f-8e01-9fa11cba1984",
   "metadata": {},
   "source": [
    "#### 2.2.1 数据集可视化\n",
    "\n",
    "##### 加载数据集\n",
    "\n",
    "运行下面代码将数据集下载并解压在notebook所在目录下的dataset文件夹下。"
   ]
  },
  {
   "cell_type": "code",
   "execution_count": 3,
   "id": "a496c308-31e9-4a2d-9ce8-6987efaa2244",
   "metadata": {
    "vscode": {
     "languageId": "python"
    }
   },
   "outputs": [
    {
     "name": "stdout",
     "output_type": "stream",
     "text": [
      "Start download,[File size]:3.84 MB\n",
      "[下载进度]:>>>>>>>>>>>>>>>>>>>>>>>>>>>>>>>>>>>>>>>>>>>>>>>>>>100.00% \n",
      "Download completed!,times: 3.86秒\n",
      "Successfully unzip download dataset from website!\n"
     ]
    }
   ],
   "source": [
    "import os\n",
    "import requests\n",
    "import time\n",
    "import zipfile\n",
    "\n",
    "# 自动下载并解压数据集到指定文件夹内\n",
    "def download_and_unzip(url, path):\n",
    "    if not os.path.exists(path):   # 看是否有该文件夹，没有则创建文件夹\n",
    "        os.mkdir(path)\n",
    "    file_path = os.path.join(path, 'case7BrainMRI.zip')\n",
    "    start = time.time() #下载开始时间\n",
    "    user, password = 'tyx_neu', 'Sportlab307'\n",
    "    resp = requests.get(url, auth=(user, password), stream=True)      #把下载地址发送给requests模块\n",
    "    size = 0    #初始化已下载大小\n",
    "    chunk_size = 1024  # 每次下载的数据大小\n",
    "    content_size = int(resp.headers['content-length'])  # 下载文件总大小\n",
    "    try:\n",
    "        if resp.status_code == 200:   #判断是否响应成功\n",
    "            print('Start download,[File size]:{size:.2f} MB'.format(size=content_size/chunk_size/1024))  #开始下载，显示下载文件大小\n",
    "            with open(file_path, 'wb') as file:   #显示进度条\n",
    "                for data in resp.iter_content(chunk_size=chunk_size):\n",
    "                    file.write(data)\n",
    "                    size += len(data)\n",
    "                    print('\\r'+'[下载进度]:%s%.2f%%' % ('>'*int(size*50/content_size), float(size/content_size*100)), end=' ')\n",
    "        end = time.time()   #下载结束时间\n",
    "        print('\\n'+'Download completed!,times: %.2f秒' % (end - start))  #输出下载用时时间\n",
    "    except ValueError:\n",
    "        print('Error!')\n",
    "    unzip_file_path = os.path.join(path, 'case7BrainMRI')\n",
    "    if not os.path.exists(unzip_file_path):   # 看是否有该文件夹，没有则创建文件夹\n",
    "        os.mkdir(unzip_file_path)\n",
    "    zip_file = zipfile.ZipFile(file_path)\n",
    "    zip_list = zip_file.namelist()  # 压缩文件清单，可以直接看到压缩包内的各个文件的明细\n",
    "    for f in zip_list:  # 遍历这些文件，逐个解压出来，\n",
    "        zip_file.extract(f, unzip_file_path)\n",
    "    zip_file.close()\n",
    "    print('Successfully unzip download dataset from website!')\n",
    "\n",
    "#下载地址\n",
    "url = 'https://openi.pcl.ac.cn/attachments/e8ac2afb-e189-47aa-b916-f0be50b737a8?type=1'\n",
    "download_and_unzip(url, os.path.join(os.getcwd(), 'dataset'))"
   ]
  },
  {
   "cell_type": "markdown",
   "id": "f483d2bd",
   "metadata": {},
   "source": [
    "##### 可视化\n",
    "\n",
    "选取训练集图像和训练集标签的图片进行可视化，如下图所示：左图为MRI图像，右图为对应的标签图像，空白部分为分割出的病变部位。"
   ]
  },
  {
   "cell_type": "code",
   "execution_count": 4,
   "id": "c3a2f12d",
   "metadata": {
    "scrolled": true,
    "vscode": {
     "languageId": "python"
    }
   },
   "outputs": [
    {
     "name": "stdout",
     "output_type": "stream",
     "text": [
      "(30, 512, 512)\n",
      "(30, 512, 512)\n"
     ]
    },
    {
     "data": {
      "image/png": "[encoded data removed]",
      "text/plain": [
       "<Figure size 720x720 with 2 Axes>"
      ]
     },
     "metadata": {
      "needs_background": "light"
     },
     "output_type": "display_data"
    }
   ],
   "source": [
    "import numpy as np\n",
    "from matplotlib import pyplot as plt\n",
    "from PIL import Image, ImageSequence\n",
    "\n",
    "# 数据集路径\n",
    "data_url = './dataset/case7BrainMRI/case7/BrainMRI/train'\n",
    "\n",
    "#打印图像和标签的形状，并展示第一张图像和标签\n",
    "image = np.array([np.array(p) for p in ImageSequence.Iterator(Image.open(data_url + r\"/volume.tif\"))])\n",
    "\n",
    "label = np.array([np.array(p) for p in ImageSequence.Iterator(Image.open(data_url + r\"/labels.tif\"))])\n",
    "\n",
    "print(image.shape)\n",
    "print(label.shape)\n",
    "#设置图像大小，单位为“英寸”\n",
    "plt.figure(figsize=(10, 10))\n",
    "plt.subplot(2, 2, 1)\n",
    "plt.title('MRI')\n",
    "plt.imshow(image[20], cmap='gray')\n",
    "plt.subplot(2, 2, 2)\n",
    "plt.title('Label')\n",
    "plt.imshow(label[20], cmap='gray')\n",
    "plt.show()"
   ]
  },
  {
   "cell_type": "markdown",
   "id": "4cf7f7a3",
   "metadata": {},
   "source": [
    "#### 2.2.2 数据预处理\n",
    "\n",
    "在深度学习项目中，数据的收集和处理会花费相当多的时间。但在很多实际的项目中特别是医学图像，数据的获取和标注成本是很高的，我们难以找到充足的数据来完成任务。为了防止深度学习模型出现严重的过拟合现象，当数据量不足时，我们通常会做数据增强，扩大数据集样本量，提升数据样本空间的复杂度。\n",
    "\n",
    "在本实验中，使用普通的**仿射变换**（即翻转，旋转，裁剪）和改变亮度来达到数据增强的目的。\n",
    "\n",
    "此外，由于U-Net网络的输入是大于输出的，因此，在输入图像前，我们还需要对原图进行放大。如下图，实际预测的区域为黄色的区域（输出层对应的区域），实际输入的区域为蓝色的区域。左图中间白色线框为训练集中的原图，外面一圈是通过对边缘部分进行翻转，旋转变换得到的。\n",
    "\n",
    "<div align=\"center\">\n",
    "<img src=\"./images/02.png\" width=\"50%\" height=\"50%\">\n",
    "</div>"
   ]
  },
  {
   "cell_type": "markdown",
   "id": "545ec476",
   "metadata": {},
   "source": [
    "##### 加载数据集\n",
    "\n",
    "定义加载数据集的函数。以下为代码实现："
   ]
  },
  {
   "cell_type": "code",
   "execution_count": 5,
   "id": "49c49db6",
   "metadata": {
    "vscode": {
     "languageId": "python"
    }
   },
   "outputs": [],
   "source": [
    "import mindspore.dataset as ds\n",
    "import mindspore.dataset.vision.c_transforms as c_vision\n",
    "from mindspore.dataset.vision.utils import Inter\n",
    "from collections import deque\n",
    "\n",
    "def _load_multipage_tiff(path):\n",
    "    \"\"\"Load tiff images containing many images in the channel dimension\"\"\"\n",
    "    return np.array([np.array(p) for p in ImageSequence.Iterator(Image.open(path))])"
   ]
  },
  {
   "cell_type": "markdown",
   "id": "47976632",
   "metadata": {},
   "source": [
    "##### 打乱和切分\n",
    "\n",
    "接下来将训练数据分为训练集和验证集，需要对数据进行打乱和切分。以下为打乱和切分代码实现："
   ]
  },
  {
   "cell_type": "code",
   "execution_count": 6,
   "id": "78bdb1df",
   "metadata": {
    "vscode": {
     "languageId": "python"
    }
   },
   "outputs": [],
   "source": [
    "def _get_val_train_indices(length, fold, ratio=0.8):\n",
    "#将训练数据分为训练集和验证集\n",
    "    assert 0 < ratio <= 1, \"Train/total data ratio must be in range (0.0, 1.0]\"\n",
    "    np.random.seed(0)\n",
    "    indices = np.arange(0, length, 1, dtype=int)\n",
    "    #打乱数据，利于模型训练\n",
    "    np.random.shuffle(indices)\n",
    "\n",
    "    if fold is not None:\n",
    "        #使用deque方式切分数据\n",
    "        indices = deque(indices)\n",
    "        indices.rotate(fold * round((1.0 - ratio) * length))\n",
    "        indices = np.array(indices)\n",
    "        train_indices = indices[:round(ratio * len(indices))]\n",
    "        val_indices = indices[round(ratio * len(indices)):]\n",
    "    else:\n",
    "        train_indices = indices\n",
    "        val_indices = []\n",
    "    return train_indices, val_indices\n",
    "def data_post_process(img, mask):\n",
    "\n",
    "    img = np.expand_dims(img, axis=0)\n",
    "    mask = (mask > 0.5).astype(int)\n",
    "    mask = (np.arange(mask.max() + 1) == mask[..., None]).astype(int)\n",
    "    mask = mask.transpose(2, 0, 1).astype(np.float32)\n",
    "    return img, mask"
   ]
  },
  {
   "cell_type": "markdown",
   "id": "297ece90",
   "metadata": {},
   "source": [
    "##### 数据增强\n",
    "\n",
    "对数据进行旋转、翻转裁剪和亮度调节操作，优化模型的训练效果。以下为数据增强代码实现："
   ]
  },
  {
   "cell_type": "code",
   "execution_count": 7,
   "id": "a7dcc60f",
   "metadata": {
    "vscode": {
     "languageId": "python"
    }
   },
   "outputs": [],
   "source": [
    "def train_data_augmentation(img, mask):\n",
    "#原数据只有30张训练数据，因此需要数据增强\n",
    "    #生成随机数，如果随机数大于0.5就旋转图像。\n",
    "    h_flip = np.random.random()\n",
    "    if h_flip > 0.5:\n",
    "        img = np.flipud(img)\n",
    "        mask = np.flipud(mask)\n",
    "    #生成随机数，如果随机数大于0.5就翻转图像。\n",
    "    v_flip = np.random.random()\n",
    "    if v_flip > 0.5:\n",
    "        img = np.fliplr(img)\n",
    "        mask = np.fliplr(mask)\n",
    "    #生成随机数用于裁剪图像\n",
    "    left = int(np.random.uniform()*0.3*572)\n",
    "    right = int((1-np.random.uniform()*0.3)*572)\n",
    "    top = int(np.random.uniform()*0.3*572)\n",
    "    bottom = int((1-np.random.uniform()*0.3)*572)\n",
    "\n",
    "    #裁剪\n",
    "    img = img[top:bottom, left:right]\n",
    "    mask = mask[top:bottom, left:right]\n",
    "\n",
    "    #改变亮度\n",
    "    brightness = np.random.uniform(-0.2, 0.2)\n",
    "    img = np.float32(img+brightness*np.ones(img.shape))\n",
    "    img = np.clip(img, -1.0, 1.0)\n",
    "\n",
    "    return img, mask"
   ]
  },
  {
   "cell_type": "markdown",
   "id": "73d3d849",
   "metadata": {},
   "source": [
    "#### 2.2.3 数据集加载\n",
    "\n",
    "加载volume.tif、labels.tif，按照8:2划分为训练集和验证集，生成train_ds、valid_ds两个数据集。具体实现代码如下："
   ]
  },
  {
   "cell_type": "code",
   "execution_count": 8,
   "id": "0c253b96",
   "metadata": {
    "vscode": {
     "languageId": "python"
    }
   },
   "outputs": [],
   "source": [
    "def create_dataset(data_dir, repeat=200, train_batch_size=16, augment=False, cross_val_ind=1, run_distribute=False):\n",
    "#创建数据集\n",
    "    images = _load_multipage_tiff(os.path.join(data_dir, \"train/volume.tif\"))\n",
    "    masks = _load_multipage_tiff(os.path.join(data_dir, \"train/labels.tif\"))\n",
    "    # images = _load_multipage_tiff(os.path.join(data_dir, \"volume.tif\"))\n",
    "    # masks = _load_multipage_tiff(os.path.join(data_dir, \"labels.tif\"))\n",
    "    train_indices, val_indices = _get_val_train_indices(len(images), cross_val_ind)\n",
    "    train_images = images[train_indices]\n",
    "    train_masks = masks[train_indices]\n",
    "    train_images = np.repeat(train_images, repeat, axis=0)\n",
    "    train_masks = np.repeat(train_masks, repeat, axis=0)\n",
    "    val_images = images[val_indices]\n",
    "    val_masks = masks[val_indices]\n",
    "\n",
    "    train_image_data = {\"image\": train_images}\n",
    "    train_mask_data = {\"mask\": train_masks}\n",
    "    valid_image_data = {\"image\": val_images}\n",
    "    valid_mask_data = {\"mask\": val_masks}\n",
    "\n",
    "\n",
    "    ds_train_images = ds.NumpySlicesDataset(data=train_image_data, sampler=None, shuffle=False)\n",
    "    ds_train_masks = ds.NumpySlicesDataset(data=train_mask_data, sampler=None, shuffle=False)\n",
    "\n",
    "    ds_valid_images = ds.NumpySlicesDataset(data=valid_image_data, sampler=None, shuffle=False)\n",
    "    ds_valid_masks = ds.NumpySlicesDataset(data=valid_mask_data, sampler=None, shuffle=False)\n",
    "\n",
    "    c_resize_op = c_vision.Resize(size=(388, 388), interpolation=Inter.BILINEAR)\n",
    "    c_pad = c_vision.Pad(padding=92)\n",
    "    c_rescale_image = c_vision.Rescale(1.0/127.5, -1)\n",
    "    c_rescale_mask = c_vision.Rescale(1.0/255.0, 0)\n",
    "\n",
    "    c_trans_normalize_img = [c_rescale_image, c_resize_op, c_pad]\n",
    "    c_trans_normalize_mask = [c_rescale_mask, c_resize_op, c_pad]\n",
    "    c_center_crop = c_vision.CenterCrop(size=388)\n",
    "\n",
    "    train_image_ds = ds_train_images.map(input_columns=\"image\", operations=c_trans_normalize_img)\n",
    "    train_mask_ds = ds_train_masks.map(input_columns=\"mask\", operations=c_trans_normalize_mask)\n",
    "    train_ds = ds.zip((train_image_ds, train_mask_ds))\n",
    "    train_ds = train_ds.project(columns=[\"image\", \"mask\"])\n",
    "    if augment:\n",
    "        augment_process = train_data_augmentation\n",
    "        c_resize_op = c_vision.Resize(size=(572, 572), interpolation=Inter.BILINEAR)\n",
    "        train_ds = train_ds.map(input_columns=[\"image\", \"mask\"], operations=augment_process)\n",
    "        train_ds = train_ds.map(input_columns=\"image\", operations=c_resize_op)\n",
    "        train_ds = train_ds.map(input_columns=\"mask\", operations=c_resize_op)\n",
    "\n",
    "    train_ds = train_ds.map(input_columns=\"mask\", operations=c_center_crop)\n",
    "    post_process = data_post_process\n",
    "    train_ds = train_ds.map(input_columns=[\"image\", \"mask\"], operations=post_process)\n",
    "    train_ds = train_ds.shuffle(repeat*24)\n",
    "    train_ds = train_ds.batch(batch_size=train_batch_size, drop_remainder=True)\n",
    "\n",
    "    valid_image_ds = ds_valid_images.map(input_columns=\"image\", operations=c_trans_normalize_img)\n",
    "    valid_mask_ds = ds_valid_masks.map(input_columns=\"mask\", operations=c_trans_normalize_mask)\n",
    "    valid_ds = ds.zip((valid_image_ds, valid_mask_ds))\n",
    "    valid_ds = valid_ds.project(columns=[\"image\", \"mask\"])\n",
    "    valid_ds = valid_ds.map(input_columns=\"mask\", operations=c_center_crop)\n",
    "    post_process = data_post_process\n",
    "    valid_ds = valid_ds.map(input_columns=[\"image\", \"mask\"], operations=post_process)\n",
    "    valid_ds = valid_ds.batch(batch_size=1, drop_remainder=True)\n",
    "\n",
    "    return train_ds, valid_ds"
   ]
  },
  {
   "cell_type": "markdown",
   "id": "394e6cb6",
   "metadata": {},
   "source": [
    "### 2.3 U-Net网络搭建"
   ]
  },
  {
   "cell_type": "markdown",
   "id": "a5e7332a",
   "metadata": {},
   "source": [
    "#### 2.3.1 设置超参数\n",
    "\n",
    "以下为本实验的主要超参数设置，可根据实际训练情况对参数进行微调以达到较好的训练效果。\n",
    "\n",
    "+ 'lr': 学习率\n",
    "\n",
    "+ 'epochs': 所有的数据送入网络中， 完成了一次前向计算 + 反向传播的过程\n",
    "\n",
    "+ 'distribute_epochs': 分布式训练\n",
    "\n",
    "+ 'batchsize': 在深度学习中一般采用随机梯度下降法训练，即每次在训练集中取batchsize个样本训练\n",
    "\n",
    "+ 'cross_valid_ind': 交叉验证\n",
    "\n",
    "+ 'num_classes': 最后一个全连接层所分出的类个数\n",
    "\n",
    "+ 'num_channels': 通道数量\n",
    "\n",
    "+ 'keep_checkpoint_max': 改变keep_checkpoint_max的值就可以改变保存到本地的checkpoint的数量\n",
    "\n",
    "+ 'weight_decay': 权重衰减\n",
    "\n",
    "+ 'loss_scale': 损失标度，降低发生下溢的几率\n",
    "\n",
    "+ 'resume': 预训练模型\n",
    "\n",
    "+ 'resume_ckpt': 预训练的ckpt文件路径，可在此基础上对预模型进行微调训练来优化结果"
   ]
  },
  {
   "cell_type": "code",
   "execution_count": 9,
   "id": "c04a7079",
   "metadata": {
    "scrolled": true,
    "vscode": {
     "languageId": "python"
    }
   },
   "outputs": [],
   "source": [
    "cfg_unet = {'name': 'Unet', 'lr': 0.0001, 'epochs': epochs, 'distribute_epochs': 1600, 'batchsize': 16, 'cross_valid_ind': 1, 'num_classes': 2, 'num_channels': 1, 'keep_checkpoint_max': 10, 'weight_decay': 0.0005, 'loss_scale': 1024.0, 'FixedLossScaleManager': 1024.0, 'resume': resume, 'resume_ckpt': resume_ckpt}"
   ]
  },
  {
   "cell_type": "markdown",
   "id": "03e4b80f",
   "metadata": {},
   "source": [
    "#### 2.3.2 定义卷积层和各模块\n",
    "\n",
    "分别搭建了两层卷积，下采样，上采样，输出层模块，用于搭建U-Net网络。"
   ]
  },
  {
   "cell_type": "markdown",
   "id": "527e88b4",
   "metadata": {},
   "source": [
    "##### 卷积层定义\n",
    "\n",
    "+ **卷积层**：原始U-Net网络中卷积层统一为3x3的卷积核，padding为0 ，striding为1。没有padding所以每次卷积之后feature map的尺寸变小。因此在copy and crop时要注意feature map的尺寸。且我们会发现输入的图像尺寸为572x572，输出尺寸为388x388，输入的尺寸是要大于输出的尺寸的。\n",
    "\n",
    "以下为卷积层代码定义："
   ]
  },
  {
   "cell_type": "code",
   "execution_count": 10,
   "id": "24cd1825",
   "metadata": {
    "vscode": {
     "languageId": "python"
    }
   },
   "outputs": [],
   "source": [
    "import mindspore.nn as nn\n",
    "import mindspore.ops.operations as F\n",
    "from mindspore.communication.management import init, get_group_size\n",
    "from mindspore.common.initializer import TruncatedNormal\n",
    "from mindspore.nn import CentralCrop\n",
    "\n",
    "\n",
    "class DoubleConv(nn.Cell):\n",
    "#定义两个卷积层，由于所有的模块都要用到，因此为了简便，定义了这个类\n",
    "    def __init__(self, in_channels, out_channels, mid_channels=None):\n",
    "        super().__init__()\n",
    "        #截断高斯分布初始化\n",
    "        init_value_0 = TruncatedNormal(0.06)\n",
    "        init_value_1 = TruncatedNormal(0.06)\n",
    "        if not mid_channels:\n",
    "            mid_channels = out_channels\n",
    "        #定义两个卷积层，根据原论文，激活函数用ReLU,卷积核大小为3，不用padding，因此每经过一个卷积层，特征图大小会减小2像素。\n",
    "        self.double_conv = nn.SequentialCell(\n",
    "            [nn.Conv2d(in_channels, mid_channels, kernel_size=3, has_bias=True,\n",
    "                       weight_init=init_value_0, pad_mode=\"valid\"),\n",
    "             nn.ReLU(),\n",
    "             nn.Conv2d(mid_channels, out_channels, kernel_size=3, has_bias=True,\n",
    "                       weight_init=init_value_1, pad_mode=\"valid\"),\n",
    "             nn.ReLU()]\n",
    "        )\n",
    "\n",
    "    def construct(self, x):\n",
    "        return self.double_conv(x)"
   ]
  },
  {
   "cell_type": "markdown",
   "id": "9e08e490",
   "metadata": {},
   "source": [
    "##### 搭建下采样模块\n",
    "\n",
    "一个最大池化层接两个卷积层。\n",
    "\n",
    "+ **池化层**：两次卷积之后是一个窗口尺寸为2，步长为2的max pooling，输出大小变为原来的二分之一，池化的主要作用为减小特征图尺寸。\n",
    "\n",
    "以下为下采样模块代码实现："
   ]
  },
  {
   "cell_type": "code",
   "execution_count": 11,
   "id": "710f77e3",
   "metadata": {
    "vscode": {
     "languageId": "python"
    }
   },
   "outputs": [],
   "source": [
    "class Down(nn.Cell):\n",
    "    \"\"\"根据原论文，下采样用一个最大池化接两个卷积层\"\"\"\n",
    "\n",
    "    def __init__(self, in_channels, out_channels):\n",
    "        super().__init__()\n",
    "\n",
    "        self.maxpool_conv = nn.SequentialCell(\n",
    "            [nn.MaxPool2d(kernel_size=2, stride=2),\n",
    "             DoubleConv(in_channels, out_channels)]\n",
    "        )\n",
    "\n",
    "    def construct(self, x):\n",
    "        return self.maxpool_conv(x)"
   ]
  },
  {
   "cell_type": "markdown",
   "id": "38b00e74",
   "metadata": {},
   "source": [
    "##### 搭建上采样模块\n",
    "\n",
    "上采样的目的是恢复图像分辨率，上采样采用的方式有简单像素重复、转置卷积和插值（最邻近插值和双线性差值法等）。该过程除了卷积比较关键的步骤就是转置卷积与skip-connection。\n",
    "\n",
    "转置卷积考虑到[棋盘效应](https://distill.pub/2016/deconv-checkerboard/)，采用的是窗口大小为2，步长为2的转置卷积。每上采样一次，通过copy and crop，即skip-connection操作与encoder中对应的特征图进行拼接。网络最后输出时利用1 * 1卷积调整特征图输出数量。\n",
    "\n",
    "+ **简单像素重复**：\n",
    "\n",
    "<div align=\"center\">\n",
    "<img src=\"./images/04.png\" width=\"50%\" height=\"50%\">\n",
    "</div>\n",
    "\n",
    "+ **转置卷积**：转置卷积操作先按照一定的比例通过补0来扩大输入图像的尺寸，接着旋转卷积核，再进行正向卷积。\n",
    "\n",
    "<div align=\"center\">\n",
    "<img src=\"./images/05.png\" width=\"50%\" height=\"50%\">\n",
    "</div>\n",
    "\n",
    "+ **skip-connection**:\n",
    "\n",
    "U-Net中skip-connection通过特征图拼接的方式融合不同层次特征图。其目的是避免decoder只利用encoder中较深卷积层的high-level特征进行图像分辨率恢复和损失计算，而是结合了低级feature map中的特征，从而可以使得最终所得到的feature map中既包含了high-level 的feature，也包含很多的low-level的feature，实现了不同scale下feature的融合，提高模型的结果精确度。实现方式为特征图拼接。"
   ]
  },
  {
   "cell_type": "markdown",
   "id": "6e2dacf9",
   "metadata": {},
   "source": [
    "###### 第一个上采样模块代码实现："
   ]
  },
  {
   "cell_type": "code",
   "execution_count": 12,
   "id": "f8a64458",
   "metadata": {
    "vscode": {
     "languageId": "python"
    }
   },
   "outputs": [],
   "source": [
    "class Up1(nn.Cell):\n",
    "    \"\"\"根据原论文，第一个上采样模块采用一个转置卷积接两个卷积\"\"\"\n",
    "\n",
    "    def __init__(self, in_channels, out_channels, bilinear=True):\n",
    "        super().__init__()\n",
    "        #U-Net网络需要拼接编码器和解码器的特征图\n",
    "        self.concat = F.Concat(axis=1)\n",
    "        #根据原论文，编码器中的特征图经过中心裁剪后，进行拼接。编码器的特征图大小为64，解码器为56。\n",
    "        self.factor = 56.0 / 64.0\n",
    "        #中心裁剪\n",
    "        self.center_crop = CentralCrop(central_fraction=self.factor)\n",
    "        self.print_fn = F.Print()\n",
    "        self.conv = DoubleConv(in_channels, out_channels, in_channels // 2)\n",
    "        #转置卷积，常用的上采样方式。\n",
    "        self.up = nn.Conv2dTranspose(in_channels, in_channels // 2, kernel_size=2, stride=2)\n",
    "        self.relu = nn.ReLU()\n",
    "\n",
    "    def construct(self, x1, x2):\n",
    "        x1 = self.up(x1)\n",
    "        x1 = self.relu(x1)\n",
    "        x2 = self.center_crop(x2)\n",
    "        x = self.concat((x1, x2))\n",
    "        return self.conv(x)"
   ]
  },
  {
   "cell_type": "markdown",
   "id": "044368d1",
   "metadata": {},
   "source": [
    "###### 第二个上采样模块代码实现："
   ]
  },
  {
   "cell_type": "code",
   "execution_count": 13,
   "id": "3099f470",
   "metadata": {
    "vscode": {
     "languageId": "python"
    }
   },
   "outputs": [],
   "source": [
    "class Up2(nn.Cell):\n",
    "    \"\"\"Upscaling then double conv\"\"\"\n",
    "\n",
    "    def __init__(self, in_channels, out_channels, bilinear=True):\n",
    "        super().__init__()\n",
    "         #U-Net网络需要拼接编码器和解码器的特征图\n",
    "        self.concat = F.Concat(axis=1)\n",
    "        #根据原论文，编码器中的特征图经过中心裁剪后，进行拼接。编码器的特征图大小为136，解码器为104。\n",
    "        self.factor = 104.0 / 136.0\n",
    "        #中心裁剪\n",
    "        self.center_crop = CentralCrop(central_fraction=self.factor)\n",
    "        self.conv = DoubleConv(in_channels, out_channels, in_channels // 2)\n",
    "        #转置卷积，常用的上采样方式。\n",
    "        self.up = nn.Conv2dTranspose(in_channels, in_channels // 2, kernel_size=2, stride=2)\n",
    "        self.relu = nn.ReLU()\n",
    "\n",
    "    def construct(self, x1, x2):\n",
    "        x1 = self.up(x1)\n",
    "        x1 = self.relu(x1)\n",
    "        x2 = self.center_crop(x2)\n",
    "        x = self.concat((x1, x2))\n",
    "        return self.conv(x)"
   ]
  },
  {
   "cell_type": "markdown",
   "id": "dad9410b",
   "metadata": {},
   "source": [
    "###### 第三个上采样模块代码实现："
   ]
  },
  {
   "cell_type": "code",
   "execution_count": 14,
   "id": "b9053a39",
   "metadata": {
    "vscode": {
     "languageId": "python"
    }
   },
   "outputs": [],
   "source": [
    "class Up3(nn.Cell):\n",
    "    \"\"\"Upscaling then double conv\"\"\"\n",
    "\n",
    "    def __init__(self, in_channels, out_channels, bilinear=True):\n",
    "        super().__init__()\n",
    "        #U-Net网络需要拼接编码器和解码器的特征图\n",
    "        self.concat = F.Concat(axis=1)\n",
    "        #根据原论文，编码器中的特征图经过中心裁剪后，进行拼接。编码器的特征图大小为280，解码器为200。\n",
    "        self.factor = 200 / 280\n",
    "        self.center_crop = CentralCrop(central_fraction=self.factor)\n",
    "        self.print_fn = F.Print()\n",
    "        self.conv = DoubleConv(in_channels, out_channels, in_channels // 2)\n",
    "        self.up = nn.Conv2dTranspose(in_channels, in_channels // 2, kernel_size=2, stride=2)\n",
    "        self.relu = nn.ReLU()\n",
    "\n",
    "    def construct(self, x1, x2):\n",
    "        x1 = self.up(x1)\n",
    "        x1 = self.relu(x1)\n",
    "        x2 = self.center_crop(x2)\n",
    "        x = self.concat((x1, x2))\n",
    "        return self.conv(x)"
   ]
  },
  {
   "cell_type": "markdown",
   "id": "e478c930",
   "metadata": {},
   "source": [
    "###### 第四个上采样模块代码实现："
   ]
  },
  {
   "cell_type": "code",
   "execution_count": 15,
   "id": "1863b8ab",
   "metadata": {
    "vscode": {
     "languageId": "python"
    }
   },
   "outputs": [],
   "source": [
    "class Up4(nn.Cell):\n",
    "    \"\"\"Upscaling then double conv\"\"\"\n",
    "\n",
    "    def __init__(self, in_channels, out_channels, bilinear=True):\n",
    "        super().__init__()\n",
    "        self.concat = F.Concat(axis=1)\n",
    "        #根据原论文，编码器中的特征图经过中心裁剪后，进行拼接。编码器的特征图大小为568，解码器为392\n",
    "        self.factor = 392 / 568\n",
    "        self.center_crop = CentralCrop(central_fraction=self.factor)\n",
    "        self.conv = DoubleConv(in_channels, out_channels, in_channels // 2)\n",
    "        self.up = nn.Conv2dTranspose(in_channels, in_channels // 2, kernel_size=2, stride=2)\n",
    "        self.relu = nn.ReLU()\n",
    "\n",
    "    def construct(self, x1, x2):\n",
    "        x1 = self.up(x1)\n",
    "        x1 = self.relu(x1)\n",
    "        x2 = self.center_crop(x2)\n",
    "        x = self.concat((x1, x2))\n",
    "        return self.conv(x)"
   ]
  },
  {
   "cell_type": "markdown",
   "id": "7b35edbe",
   "metadata": {},
   "source": [
    "##### 搭建输出层\n",
    "\n",
    "分割任务本质是二分类任务，输出通道数为2。"
   ]
  },
  {
   "cell_type": "code",
   "execution_count": 16,
   "id": "c41bb095",
   "metadata": {
    "vscode": {
     "languageId": "python"
    }
   },
   "outputs": [],
   "source": [
    "class OutConv(nn.Cell):\n",
    "#最后的输出层，通道数为2，意味着二分类。\n",
    "    def __init__(self, in_channels, out_channels):\n",
    "        super(OutConv, self).__init__()\n",
    "        init_value = TruncatedNormal(0.06)\n",
    "        self.conv = nn.Conv2d(in_channels, out_channels, kernel_size=1, has_bias=True, weight_init=init_value)\n",
    "\n",
    "    def construct(self, x):\n",
    "        x = self.conv(x)\n",
    "        return x"
   ]
  },
  {
   "cell_type": "markdown",
   "id": "24a89c69",
   "metadata": {},
   "source": [
    "#### 2.3.3 搭建U-Net网络\n",
    "\n",
    "+ 编码:\n",
    "\n",
    "第一部分网络与普通卷积网络相同，通过叠加2个3x3卷积和最大池化的模块，获取多尺度特征图以抓住图像中的上下文信息（也即像素间的关系）。网络中特征图的尺寸共压缩了4次。\n",
    "\n",
    "+ 解码:\n",
    "\n",
    "第二部分与前面基本对称，共4个上采样模块，每个模块有2个3x3卷积和转置卷积，3x3的卷积核同样采用padding为0 ，striding为1。"
   ]
  },
  {
   "cell_type": "markdown",
   "id": "e9e23580",
   "metadata": {},
   "source": [
    "以下为按照原论文搭建的U-Net网络："
   ]
  },
  {
   "cell_type": "code",
   "execution_count": 17,
   "id": "1ddb8227",
   "metadata": {
    "vscode": {
     "languageId": "python"
    }
   },
   "outputs": [],
   "source": [
    "from scipy.special import softmax\n",
    "\n",
    "\n",
    "#根据原论文搭建U-Net网络\n",
    "class UNet(nn.Cell):\n",
    "    def __init__(self, n_channels, n_classes):\n",
    "        super(UNet, self).__init__()\n",
    "        self.n_channels = n_channels\n",
    "        self.n_classes = n_classes\n",
    "        self.inc = DoubleConv(n_channels, 64)\n",
    "        self.down1 = Down(64, 128)\n",
    "        self.down2 = Down(128, 256)\n",
    "        self.down3 = Down(256, 512)\n",
    "        self.down4 = Down(512, 1024)\n",
    "        self.up1 = Up1(1024, 512)\n",
    "        self.up2 = Up2(512, 256)\n",
    "        self.up3 = Up3(256, 128)\n",
    "        self.up4 = Up4(128, 64)\n",
    "        self.outc = OutConv(64, n_classes)\n",
    "\n",
    "    def construct(self, x):\n",
    "        x1 = self.inc(x)\n",
    "        x2 = self.down1(x1)\n",
    "        x3 = self.down2(x2)\n",
    "        x4 = self.down3(x3)\n",
    "        x5 = self.down4(x4)\n",
    "        x = self.up1(x5, x4)\n",
    "        x = self.up2(x, x3)\n",
    "        x = self.up3(x, x2)\n",
    "        x = self.up4(x, x1)\n",
    "        logits = self.outc(x)\n",
    "        return logits"
   ]
  },
  {
   "cell_type": "markdown",
   "id": "3b92a248",
   "metadata": {},
   "source": [
    "### 2.4 定义损失函数\n",
    "\n",
    "图像分割实现的是像素级别的分类。对应本实验来说，每个像素有两种可能分类，即前景和背景。损失函数会对所有位置的多分类损失求平均，示意图如下：\n",
    "\n",
    "<div align=\"center\">\n",
    "<img src=\"./images/03.png\" width=\"50%\" height=\"50%\">\n",
    "</div>\n",
    "\n",
    "左图为选定像素的预测结果，右图为对应像素的目标\n",
    "\n",
    "逐像素损失计算为对数损失，对所有可能的类求和。此评分在所有像素上重复计算并取平均值。"
   ]
  },
  {
   "cell_type": "markdown",
   "id": "8d33dbec",
   "metadata": {},
   "source": [
    "用MindSpore的nn.SoftmaxCrossEntropyWithLogits作为U-Net的损失函数，计算输出特征图各个位置平均的损失值："
   ]
  },
  {
   "cell_type": "code",
   "execution_count": 18,
   "id": "b6f4b8b6",
   "metadata": {
    "vscode": {
     "languageId": "python"
    }
   },
   "outputs": [],
   "source": [
    "from mindspore.nn.loss.loss import LossBase\n",
    "\n",
    "class CrossEntropyWithLogits(LossBase):\n",
    "    #重写损失函数。\n",
    "    def __init__(self):\n",
    "        super(CrossEntropyWithLogits, self).__init__()\n",
    "        self.transpose_fn = F.Transpose()\n",
    "        self.reshape_fn = F.Reshape()\n",
    "        self.softmax_cross_entropy_loss = nn.SoftmaxCrossEntropyWithLogits()\n",
    "        self.cast = F.Cast()\n",
    "\n",
    "    def construct(self, logits, label):\n",
    "        # NCHW->NHWC\n",
    "        logits = self.transpose_fn(logits, (0, 2, 3, 1))\n",
    "        logits = self.cast(logits, mindspore.float32)\n",
    "        label = self.transpose_fn(label, (0, 2, 3, 1))\n",
    "        #损失函数计算所有像素点的交叉熵损失，取平均后就得到了总损失。\n",
    "        loss = self.reduce_mean(self.softmax_cross_entropy_loss(self.reshape_fn(logits, (-1, 2)),\n",
    "                                                                self.reshape_fn(label, (-1, 2))))\n",
    "        return self.get_loss(loss)"
   ]
  },
  {
   "cell_type": "markdown",
   "id": "d68a5a63",
   "metadata": {},
   "source": [
    "### 2.5 模型训练"
   ]
  },
  {
   "cell_type": "markdown",
   "id": "b3113ff1",
   "metadata": {},
   "source": [
    "#### 2.5.1 定义用于打印损失和速度的类\n",
    "\n",
    "创建callback用于监控训练，代码如下："
   ]
  },
  {
   "cell_type": "code",
   "execution_count": 19,
   "id": "36584af4",
   "metadata": {
    "vscode": {
     "languageId": "python"
    }
   },
   "outputs": [],
   "source": [
    "from mindspore.train.callback import Callback\n",
    "import time\n",
    "from mindspore.common.tensor import Tensor\n",
    "\n",
    "class StepLossTimeMonitor(Callback):\n",
    "#创建callback用于监控训练。\n",
    "    def __init__(self, batch_size, per_print_times=per_print_times):\n",
    "        super(StepLossTimeMonitor, self).__init__()\n",
    "        if not isinstance(per_print_times, int) or per_print_times < 0:\n",
    "            raise ValueError(\"print_step must be int and >= 0.\")\n",
    "        self._per_print_times = per_print_times\n",
    "        self.batch_size = batch_size\n",
    "\n",
    "    def step_begin(self, run_context):\n",
    "        self.step_time = time.time()\n",
    "\n",
    "    def step_end(self, run_context):\n",
    "\n",
    "        step_seconds = time.time() - self.step_time\n",
    "        step_fps = self.batch_size*1.0/step_seconds\n",
    "\n",
    "        cb_params = run_context.original_args()\n",
    "        loss = cb_params.net_outputs\n",
    "\n",
    "        if isinstance(loss, (tuple, list)):\n",
    "            if isinstance(loss[0], Tensor) and isinstance(loss[0].asnumpy(), np.ndarray):\n",
    "                loss = loss[0]\n",
    "\n",
    "        if isinstance(loss, Tensor) and isinstance(loss.asnumpy(), np.ndarray):\n",
    "            loss = np.mean(loss.asnumpy())\n",
    "\n",
    "        cur_step_in_epoch = (cb_params.cur_step_num - 1) % cb_params.batch_num + 1\n",
    "\n",
    "        if isinstance(loss, float) and (np.isnan(loss) or np.isinf(loss)):\n",
    "            raise ValueError(\"epoch: {} step: {}. Invalid loss, terminating training.\".format(\n",
    "                cb_params.cur_epoch_num, cur_step_in_epoch))\n",
    "        if self._per_print_times != 0 and cb_params.cur_step_num % self._per_print_times == 0:\n",
    "            # TEST\n",
    "            print(\"step: %s, loss is %s, fps is %s\" % (cur_step_in_epoch, loss, step_fps), flush=True)"
   ]
  },
  {
   "cell_type": "markdown",
   "id": "c811baa3",
   "metadata": {},
   "source": [
    "#### 2.5.2 定义用于训练模型的类\n",
    "\n",
    "在cpu环境下采用加载预训练模型进行微调的训练策略，函数load_checkpoint用于加载ckpt文件，在npu环境中直接训练。\n",
    "\n",
    "整体上定义train_net进行模型训练。以下为训练模型的代码实现:"
   ]
  },
  {
   "cell_type": "code",
   "execution_count": 20,
   "id": "e58eeeae",
   "metadata": {
    "vscode": {
     "languageId": "python"
    }
   },
   "outputs": [],
   "source": [
    "from mindspore.train.callback import CheckpointConfig, ModelCheckpoint\n",
    "from mindspore.train.serialization import load_checkpoint, load_param_into_net\n",
    "from mindspore.context import ParallelMode\n",
    "\n",
    "def train_net(data_dir, cross_valid_ind=1, epochs=10, batch_size=16, lr=0.0001, run_distribute=False, cfg=None):\n",
    "    if run_distribute:\n",
    "        init()\n",
    "        group_size = get_group_size()\n",
    "        parallel_mode = ParallelMode.DATA_PARALLEL\n",
    "        context.set_auto_parallel_context(parallel_mode=parallel_mode,\n",
    "                                          device_num=group_size,\n",
    "                                          gradients_mean=False)\n",
    "    net = UNet(n_channels=cfg['num_channels'], n_classes=cfg['num_classes'])\n",
    "\n",
    "    if cfg['resume']:\n",
    "        param_dict = load_checkpoint(cfg['resume_ckpt'])\n",
    "        load_param_into_net(net, param_dict)\n",
    "\n",
    "    train_dataset, _ = create_dataset(data_dir, epochs, batch_size, True, cross_valid_ind, run_distribute)\n",
    "    train_data_size = train_dataset.get_dataset_size()\n",
    "    print(\"dataset length is:\", train_data_size)\n",
    "    ckpt_config = CheckpointConfig(save_checkpoint_steps=train_data_size,\n",
    "                                   keep_checkpoint_max=cfg['keep_checkpoint_max'])\n",
    "    ckpoint_cb = ModelCheckpoint(prefix='unet_medical_adam',\n",
    "                                 directory='./checkpoints/',\n",
    "                                 config=ckpt_config)\n",
    "    criterion = CrossEntropyWithLogits()\n",
    "    optimizer = nn.Adam(params=net.trainable_params(), learning_rate=lr, weight_decay=cfg['weight_decay'],\n",
    "                        loss_scale=cfg['loss_scale'])\n",
    "\n",
    "    loss_scale_manager = mindspore.train.loss_scale_manager.FixedLossScaleManager(cfg['FixedLossScaleManager'], False)\n",
    "\n",
    "    model = Model(net, loss_fn=criterion, loss_scale_manager=loss_scale_manager, optimizer=optimizer, amp_level=\"O3\")\n",
    "\n",
    "    print(\"============== Starting Training ==============\")\n",
    "    model.train(2, train_dataset, callbacks=[StepLossTimeMonitor(batch_size=batch_size), ckpoint_cb],\n",
    "                dataset_sink_mode=False)\n",
    "    print(\"============== End Training ==============\")"
   ]
  },
  {
   "cell_type": "markdown",
   "id": "72de8795",
   "metadata": {},
   "source": [
    "#### 2.5.3 训练模型"
   ]
  },
  {
   "cell_type": "code",
   "execution_count": 21,
   "id": "ab8340db",
   "metadata": {
    "scrolled": true,
    "vscode": {
     "languageId": "python"
    }
   },
   "outputs": [
    {
     "name": "stdout",
     "output_type": "stream",
     "text": [
      "dataset length is: 3\n",
      "============== Starting Training ==============\n",
      "step: 1, loss is 0.2053926, fps is 0.12414989551585483\n",
      "step: 2, loss is 0.20207928, fps is 0.14152478363080828\n",
      "step: 3, loss is 0.22213896, fps is 0.1474894470129676\n",
      "step: 1, loss is 0.2156634, fps is 0.14787575645425913\n",
      "step: 2, loss is 0.22905833, fps is 0.13852596445432938\n",
      "step: 3, loss is 0.192481, fps is 0.1495227435529268\n",
      "============== End Training ==============\n"
     ]
    }
   ],
   "source": [
    "data_url = './dataset/case7BrainMRI/case7/BrainMRI'\n",
    "\n",
    "run_distribute = False\n",
    "epoch_size = cfg_unet['epochs'] if not run_distribute else cfg_unet['distribute_epochs']\n",
    "\n",
    "train_net(data_dir=data_url, cross_valid_ind=cfg_unet['cross_valid_ind'], epochs=epoch_size,\n",
    "          batch_size=cfg_unet['batchsize'], lr=cfg_unet['lr'], run_distribute=run_distribute,\n",
    "          cfg=cfg_unet)"
   ]
  },
  {
   "cell_type": "markdown",
   "id": "7aa410b0",
   "metadata": {},
   "source": [
    "### 2.6 模型验证和测试"
   ]
  },
  {
   "cell_type": "markdown",
   "id": "b29f1d69",
   "metadata": {},
   "source": [
    "#### 2.6.1 定义用于评估模型性能的类\n",
    "\n",
    "图像分割算法的评估指标通常使用Dice coefficient，Dice coefficient和目标检测任务中的IoU指标，是一种集合相似度度量函数，通常用于计算两个样本的**相似度**。在该实验中，通过下式可以得到一张图的Dice值。\n",
    "\n",
    "$$Dice=\\frac{2TP}{(2TP+FP+FN)}=\\frac{(2|X∩Y|)}{(|X|+|Y|)}$$\n",
    "\n",
    "> TP:被正确分类的正例\n",
    ">\n",
    "> FP:错分为正例的负例\n",
    ">\n",
    "> FN:错分为负例的正例\n",
    "\n",
    "<div align=\"center\">\n",
    "<img src=\"./images/07.png\" width=\"30%\" height=\"30%\">\n",
    "</div>"
   ]
  },
  {
   "cell_type": "markdown",
   "id": "4c0af6ca",
   "metadata": {},
   "source": [
    "定义函数用于在验证集上计算Dice值："
   ]
  },
  {
   "cell_type": "code",
   "execution_count": 22,
   "id": "c7efb094",
   "metadata": {
    "vscode": {
     "languageId": "python"
    }
   },
   "outputs": [],
   "source": [
    "class dice_coeff(nn.Metric):\n",
    "    #计算dice用于评估模型\n",
    "    def __init__(self):\n",
    "        super(dice_coeff, self).__init__()\n",
    "        self.clear()\n",
    "\n",
    "    def clear(self):\n",
    "        self._dice_coeff_sum = 0\n",
    "        self._samples_num = 0\n",
    "\n",
    "    def update(self, *inputs):\n",
    "        if len(inputs) != 2:\n",
    "        #if len(inputs) != fixme_1:\n",
    "            raise ValueError('Mean dice coefficient need  inputs (y_pred, y), but got {}'.format(len(inputs)))\n",
    "\n",
    "        y_pred = self._convert_data(inputs[0])\n",
    "        y = self._convert_data(inputs[1])\n",
    "        self._samples_num += y.shape[0]\n",
    "        y_pred = y_pred.transpose(0, 2, 3, 1)\n",
    "        y = y.transpose(0, 2, 3, 1)\n",
    "        y_pred = softmax(y_pred, axis=3)\n",
    "        #计算交集\n",
    "        inter = np.dot(y_pred.flatten(), y.flatten())\n",
    "        #计算并集\n",
    "        union = np.dot(y_pred.flatten(), y_pred.flatten()) + np.dot(y.flatten(), y.flatten())\n",
    "        #计算交并比\n",
    "        single_dice_coeff = 2 * float(inter) / float(union + 1e-6)\n",
    "        #single_dice_coeff = fixme_2 * float(inter) / float(union + 1e-6)\n",
    "        print(\"single dice coeff is:\", single_dice_coeff)\n",
    "        self._dice_coeff_sum += single_dice_coeff\n",
    "\n",
    "    def eval(self):\n",
    "        if self._samples_num == 0:\n",
    "            raise RuntimeError('Total samples num must not be 0.')\n",
    "        return self._dice_coeff_sum / float(self._samples_num)"
   ]
  },
  {
   "cell_type": "markdown",
   "id": "265c9bd5",
   "metadata": {},
   "source": [
    "#### 2.6.2 测试模型效果\n",
    "\n",
    "定义测试函数，用验证集测试模型性能。代码实现如下："
   ]
  },
  {
   "cell_type": "code",
   "execution_count": 23,
   "id": "9985c290",
   "metadata": {
    "vscode": {
     "languageId": "python"
    }
   },
   "outputs": [],
   "source": [
    "def test_net(data_dir, ckpt_path, cross_valid_ind=1, cfg=None):\n",
    "    net = UNet(n_channels=cfg['num_channels'], n_classes=cfg['num_classes'])\n",
    "    param_dict = load_checkpoint(ckpt_path)\n",
    "    load_param_into_net(net, param_dict)\n",
    "\n",
    "    criterion = CrossEntropyWithLogits()\n",
    "    _, valid_dataset = create_dataset(data_dir, 1, 1, False, cross_valid_ind, False)\n",
    "    model = Model(net, loss_fn=criterion, metrics={\"dice_coeff\": dice_coeff()})\n",
    "\n",
    "    print(\"============== Starting Evaluating ============\")\n",
    "    dice_score = model.eval(valid_dataset, dataset_sink_mode=False)\n",
    "    print(\"Cross valid dice coeff is:\", dice_score)\n",
    "    #可视化预测结果\n",
    "    testimage = np.array([np.array(p) for p in ImageSequence.Iterator(Image.open(\"./dataset/case7BrainMRI/case7/BrainMRI/test/test.tif\"))])\n",
    "    testlabel = np.array([np.array(p) for p in ImageSequence.Iterator(Image.open(\"./dataset/case7BrainMRI/case7/BrainMRI/test/testlabel.tif\"))])\n",
    "    #读取一张测试集图像\n",
    "    testdata = testimage[9]\n",
    "    image = Image.fromarray(testdata)\n",
    "    #对图像进行缩放\n",
    "    image = image.resize((388, 388))\n",
    "    testdata = np.asarray(image)\n",
    "    #根据原论文对原图进行扩充，通过numpy的pad函数，将原图像边缘像素“外翻”，将388*388的图像扩充至572*572。\n",
    "    testdata = np.pad(testdata, ((92, 92), (92, 92)), 'symmetric')\n",
    "    #和训练时一样进行归一化处理\n",
    "    testdata = testdata/127.5-1\n",
    "    testdata = testdata.astype(np.float32)\n",
    "    testdata = testdata.reshape(1, 1, 572, 572)\n",
    "    output = model.predict(Tensor(testdata))\n",
    "    pred = np.argmax(output.asnumpy(), axis=1)\n",
    "    pred = pred.reshape(388, 388)\n",
    "    #可视化测试图像和模型推理结果。\n",
    "    plt.figure(figsize=(10, 10))\n",
    "    plt.subplot(1, 3, 1)\n",
    "    plt.title('MRI')\n",
    "    plt.imshow(testimage[9], cmap='gray')\n",
    "    plt.subplot(1, 3, 2)\n",
    "    plt.title('Predict')\n",
    "    plt.imshow(pred, cmap='gray')\n",
    "    plt.subplot(1, 3, 3)\n",
    "    plt.title('Label')\n",
    "    plt.imshow(testlabel[9], cmap='gray')\n",
    "    plt.show()"
   ]
  },
  {
   "cell_type": "markdown",
   "id": "fb9d420d",
   "metadata": {},
   "source": [
    "调用函数进行预测："
   ]
  },
  {
   "cell_type": "code",
   "execution_count": 26,
   "id": "f61ac6dd",
   "metadata": {
    "scrolled": true,
    "vscode": {
     "languageId": "python"
    }
   },
   "outputs": [
    {
     "name": "stdout",
     "output_type": "stream",
     "text": [
      "============== Starting Evaluating ============\n",
      "single dice coeff is: 0.9897712000445572\n",
      "single dice coeff is: 0.9824797513983611\n",
      "single dice coeff is: 0.9926833244014479\n",
      "single dice coeff is: 0.9899126468435944\n",
      "single dice coeff is: 0.9876944898883291\n",
      "single dice coeff is: 0.9874330438784248\n",
      "Cross valid dice coeff is: {'dice_coeff': 0.9883290760757858}\n"
     ]
    },
    {
     "data": {
      "image/png": "[encoded data removed]",
      "text/plain": [
       "<Figure size 720x720 with 3 Axes>"
      ]
     },
     "metadata": {
      "needs_background": "light"
     },
     "output_type": "display_data"
    }
   ],
   "source": [
    "ckpt_path = './checkpoints/unet_medical_adam-1_3.ckpt'\n",
    "#ckpt_path = fixme_3\n",
    "test_net(data_dir=data_url, ckpt_path=ckpt_path, cross_valid_ind=cfg_unet['cross_valid_ind'],\n",
    "         cfg=cfg_unet)"
   ]
  },
  {
   "cell_type": "markdown",
   "id": "ef6816b9",
   "metadata": {},
   "source": [
    "## 3. 实验任务"
   ]
  },
  {
   "cell_type": "markdown",
   "id": "630cab21",
   "metadata": {},
   "source": [
    "### 3.1 实验任务\n",
    "\n",
    "请完成1.7节的程序，在'FIXME'位置填写正确内容，以保证程序正确运行。"
   ]
  },
  {
   "cell_type": "markdown",
   "id": "c23fd05a-208a-4f63-a48d-6113b4f93836",
   "metadata": {},
   "source": [
    "## 4.小结\n",
    "\n",
    "1. 了解U-net网络的相关知识\n",
    "2. 掌握了如何进行数据增强\n",
    "3. 定义复杂的网络结构"
   ]
  }
 ],
 "metadata": {
  "kernelspec": {
   "display_name": "ms1.7",
   "language": "python",
   "name": "ms1.7"
  },
  "toc": {
   "base_numbering": 1,
   "nav_menu": {},
   "number_sections": false,
   "sideBar": true,
   "skip_h1_title": false,
   "title_cell": "Table of Contents",
   "title_sidebar": "Contents",
   "toc_cell": false,
   "toc_position": {
    "height": "calc(100% - 180px)",
    "left": "10px",
    "top": "150px",
    "width": "165px"
   },
   "toc_section_display": true,
   "toc_window_display": true
  },
  "varInspector": {
   "cols": {
    "lenName": 16,
    "lenType": 16,
    "lenVar": 40
   },
   "kernels_config": {
    "python": {
     "delete_cmd_postfix": "",
     "delete_cmd_prefix": "del ",
     "library": "var_list.py",
     "varRefreshCmd": "print(var_dic_list())"
    },
    "r": {
     "delete_cmd_postfix": ") ",
     "delete_cmd_prefix": "rm(",
     "library": "var_list.r",
     "varRefreshCmd": "cat(var_dic_list()) "
    }
   },
   "types_to_exclude": [
    "module",
    "function",
    "builtin_function_or_method",
    "instance",
    "_Feature"
   ],
   "window_display": false
  },
  "vscode": {
   "interpreter": {
    "hash": "1833749fb8f72c31047ef76df24c54f7b06bba494d880ba7c5c6e98e1db6b70e"
   }
  }
 },
 "nbformat": 4,
 "nbformat_minor": 5
}
